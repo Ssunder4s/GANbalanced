{
 "cells": [
  {
   "cell_type": "code",
   "execution_count": 139,
   "metadata": {},
   "outputs": [],
   "source": [
    "import numpy as np"
   ]
  },
  {
   "cell_type": "code",
   "execution_count": 140,
   "metadata": {},
   "outputs": [],
   "source": [
    "from joblib import Parallel, delayed\n",
    "from itertools import product"
   ]
  },
  {
   "cell_type": "code",
   "execution_count": 141,
   "metadata": {},
   "outputs": [],
   "source": [
    "sampler_param = [{\"name\":\"cGAN\", \"candidate_parameters\":{\"A\":[1,2,3], \"B\":[1,2,3]}},\n",
    "                 {\"name\":\"SMOTE\", \"candidate_parameters\":{\"K\":[1,2,5]} }\n",
    "           ]\n",
    "model_param = [{\"name\":\"logreg\", \"candidate_parameters\":{\"C\":[1,10,100]}}]"
   ]
  },
  {
   "cell_type": "code",
   "execution_count": 142,
   "metadata": {},
   "outputs": [],
   "source": [
    "sampler_fun = {\"cGAN\":None,\n",
    "                \"SMOTE\":None\n",
    "}\n",
    "model_fun = {\"logreg\":None\n",
    "}"
   ]
  },
  {
   "cell_type": "code",
   "execution_count": 143,
   "metadata": {},
   "outputs": [],
   "source": [
    "from sklearn.model_selection import ParameterGrid\n",
    "\n",
    "def make_validation_grid(parameter_dict, object_dict):\n",
    "    out = []\n",
    "    for model in parameter_dict:\n",
    "        if model[\"name\"] not in object_dict.keys():\n",
    "           raise KeyError(\"Model name not found in model objects\")\n",
    "\n",
    "        param_grid = list(ParameterGrid(model[\"candidate_parameters\"]))\n",
    "\n",
    "        for param in param_grid:\n",
    "            out.append({\"name\":model[\"name\"], \n",
    "                             \"base\":object_dict[model[\"name\"]], \n",
    "                             \"params\":param})\n",
    "    return out"
   ]
  },
  {
   "cell_type": "code",
   "execution_count": 150,
   "metadata": {},
   "outputs": [],
   "source": [
    "sampler_grid = make_validation_grid(sampler_param, sampler_fun)"
   ]
  },
  {
   "cell_type": "code",
   "execution_count": 158,
   "metadata": {},
   "outputs": [],
   "source": [
    "X = np.random.rand(1000,10)\n",
    "y = np.random.randint(0,2,1000)"
   ]
  },
  {
   "cell_type": "code",
   "execution_count": 137,
   "metadata": {},
   "outputs": [],
   "source": [
    "from sklearn.model_selection import StratifiedKFold\n",
    "cv_sampler = StratifiedKFold(n_splits=5)\n",
    "cv_model = StratifiedKFold(n_splits=3)"
   ]
  },
  {
   "cell_type": "code",
   "execution_count": null,
   "metadata": {},
   "outputs": [],
   "source": [
    "def _fit_and_score_sampler(sampler, model_grid, X, y, train, test, **kwargs):\n",
    "    # Oversample training data\n",
    "    \n",
    "    \n",
    "    \n",
    "    # Train and evaluate all models\n",
    "    \n",
    "    \n",
    "    # Return results"
   ]
  },
  {
   "cell_type": "code",
   "execution_count": null,
   "metadata": {},
   "outputs": [],
   "source": [
    "parallel = Parallel(n_jobs=self.n_jobs, verbose=self.verbose,\n",
    "                            pre_dispatch=self.pre_dispatch)\n",
    "\n",
    "fit_and_score_kwargs = dict(scorer=scorers,\n",
    "                            fit_params=fit_params,\n",
    "                            return_train_score=self.return_train_score,\n",
    "                            return_n_test_samples=True,\n",
    "                            return_times=True,\n",
    "                            return_parameters=False,\n",
    "                            error_score=self.error_score,\n",
    "                            verbose=self.verbose)\n",
    "results = {}\n",
    "with parallel:\n",
    "    all_candidate_params = []\n",
    "    all_out = []\n",
    "\n",
    "    def evaluate_candidates(candidate_params):\n",
    "        candidate_params = list(candidate_params)\n",
    "        n_candidates = len(candidate_params)\n",
    "\n",
    "        if self.verbose > 0:\n",
    "            print(\"Fitting {0} folds for each of {1} candidates,\"\n",
    "                  \" totalling {2} fits\".format(\n",
    "                      n_splits, n_candidates, n_candidates * n_splits))\n",
    "\n",
    "        out = parallel(delayed(_fit_and_score)(clone(base_estimator),\n",
    "                                               X, y,\n",
    "                                               train=train, test=test,\n",
    "                                               parameters=parameters,\n",
    "                                               **fit_and_score_kwargs)\n",
    "                       for parameters, (train, test)\n",
    "                       in product(candidate_params,\n",
    "                                  cv.split(X, y, groups)))\n",
    "\n",
    "        if len(out) < 1:\n",
    "            raise ValueError('No fits were performed. '\n",
    "                             'Was the CV iterator empty? '\n",
    "                             'Were there no candidates?')\n",
    "        elif len(out) != n_candidates * n_splits:\n",
    "            raise ValueError('cv.split and cv.get_n_splits returned '\n",
    "                             'inconsistent results. Expected {} '\n",
    "                             'splits, got {}'\n",
    "                             .format(n_splits,\n",
    "                                     len(out) // n_candidates))\n",
    "\n",
    "        all_candidate_params.extend(candidate_params)\n",
    "        all_out.extend(out)\n",
    "\n",
    "        nonlocal results\n",
    "        results = self._format_results(\n",
    "            all_candidate_params, scorers, n_splits, all_out)\n",
    "        return results"
   ]
  },
  {
   "cell_type": "code",
   "execution_count": null,
   "metadata": {},
   "outputs": [],
   "source": []
  }
 ],
 "metadata": {
  "kernelspec": {
   "display_name": "Python [deeplearning]",
   "language": "python",
   "name": "Python [deeplearning]"
  },
  "language_info": {
   "codemirror_mode": {
    "name": "ipython",
    "version": 3
   },
   "file_extension": ".py",
   "mimetype": "text/x-python",
   "name": "python",
   "nbconvert_exporter": "python",
   "pygments_lexer": "ipython3",
   "version": "3.6.7"
  }
 },
 "nbformat": 4,
 "nbformat_minor": 2
}
