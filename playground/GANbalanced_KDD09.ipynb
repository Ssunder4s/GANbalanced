{
 "cells": [
  {
   "cell_type": "code",
   "execution_count": 1,
   "metadata": {},
   "outputs": [],
   "source": [
    "import pandas as pd\n",
    "import numpy as np\n",
    "import torch.nn.functional as F\n",
    "import torch\n",
    "from torch.utils.data import DataLoader\n",
    "from torch.optim import SGD, Adam\n",
    "\n",
    "from sklearn.tree import DecisionTreeClassifier\n",
    "from sklearn.ensemble import RandomForestClassifier\n",
    "from sklearn.model_selection import train_test_split\n",
    "from sklearn.metrics import roc_auc_score\n",
    "\n",
    "import matplotlib.pyplot as plt\n",
    "import seaborn as sns\n",
    "\n",
    "import json"
   ]
  },
  {
   "cell_type": "code",
   "execution_count": 2,
   "metadata": {},
   "outputs": [],
   "source": [
    "from tableGAN.utils import create_GAN_data, TabularDataset\n",
    "from tableGAN.tableGAN import make_noise, CriticNet, WGAN, GeneratorNet"
   ]
  },
  {
   "cell_type": "markdown",
   "metadata": {},
   "source": [
    "# KDD2009 data"
   ]
  },
  {
   "cell_type": "code",
   "execution_count": 3,
   "metadata": {},
   "outputs": [],
   "source": [
    "with open('../data/KDD2009.json') as f:\n",
    "    data = json.load(f)"
   ]
  },
  {
   "cell_type": "code",
   "execution_count": 4,
   "metadata": {},
   "outputs": [],
   "source": [
    "X_cat = np.array(data['Xcat'])\n",
    "y = np.array(data['Y']).flatten()"
   ]
  },
  {
   "cell_type": "code",
   "execution_count": 5,
   "metadata": {},
   "outputs": [],
   "source": [
    "y[y==-1] = 0"
   ]
  },
  {
   "cell_type": "code",
   "execution_count": 6,
   "metadata": {},
   "outputs": [],
   "source": [
    "single_value_idx = np.where(np.logical_and(np.min(X_cat, axis=0)==0,np.max(X_cat, axis=0)==0))"
   ]
  },
  {
   "cell_type": "code",
   "execution_count": 7,
   "metadata": {},
   "outputs": [],
   "source": [
    "X_cat = np.delete(X_cat, single_value_idx, axis=1)"
   ]
  },
  {
   "cell_type": "code",
   "execution_count": 8,
   "metadata": {},
   "outputs": [],
   "source": [
    "X_cat = pd.DataFrame(X_cat)"
   ]
  },
  {
   "cell_type": "markdown",
   "metadata": {},
   "source": [
    "The tricky part is how to input to the generator the structure of the variables (continuous, binary, multi-class). Additionally, computation is more efficient if all k continuous variables are estimated in one output layer with k output nodes instead of k output layers with 1 output node. "
   ]
  },
  {
   "cell_type": "code",
   "execution_count": 9,
   "metadata": {},
   "outputs": [],
   "source": [
    "# Transform binary and multi-level categorical vars to type 'category'\n",
    "X_cat.iloc[:,0:129] = X_cat.iloc[:,0:129].astype('category', ) "
   ]
  },
  {
   "cell_type": "code",
   "execution_count": 10,
   "metadata": {},
   "outputs": [],
   "source": [
    "# Count the number of levels per variable\n",
    "cat_levels = []\n",
    "for c in X_cat: #[X.columns[X.dtypes=='category']]:\n",
    "    if X_cat[c].dtypes == 'float' or X_cat[c].dtypes == 'int':\n",
    "        cat_levels.append(0)\n",
    "    elif X_cat[c].dtypes == 'category':\n",
    "        cat_levels.append(len(X_cat[c].cat.categories))"
   ]
  },
  {
   "cell_type": "code",
   "execution_count": 11,
   "metadata": {},
   "outputs": [],
   "source": [
    "# re-order the data to continuous, binary, multi-level\n",
    "#col_order = np.argsort(cat_levels)\n",
    "\n",
    "#X_cat=X_cat[col_order]\n",
    "#cat_levels = np.array(cat_levels)[col_order]"
   ]
  },
  {
   "cell_type": "code",
   "execution_count": 12,
   "metadata": {},
   "outputs": [],
   "source": [
    "cat_levels = np.array(cat_levels)\n",
    "#X_cat.columns[np.where(cat_levels>2)]"
   ]
  },
  {
   "cell_type": "markdown",
   "metadata": {},
   "source": [
    "### Pre-processing (scaling, one-hot encoding)"
   ]
  },
  {
   "cell_type": "code",
   "execution_count": 13,
   "metadata": {},
   "outputs": [],
   "source": [
    "from sklearn.compose import ColumnTransformer\n",
    "from sklearn.pipeline import Pipeline\n",
    "from sklearn.preprocessing import StandardScaler, OneHotEncoder"
   ]
  },
  {
   "cell_type": "code",
   "execution_count": 14,
   "metadata": {},
   "outputs": [],
   "source": [
    "class Preprocessor():\n",
    "    \"\"\"\n",
    "    Class to scale and one-hot encode data and undo preprocessing after data generation\n",
    "    \"\"\"\n",
    "    def __init__(self, numeric_features=None, binary_features=None, categorical_features=None):\n",
    "        self.scaler = StandardScaler()\n",
    "        self.transformer = OneHotEncoder(handle_unknown='ignore', sparse=False)\n",
    "        \n",
    "        self.var_order = np.argsort([*numeric_features, *binary_features, *categorical_features])\n",
    "        self.numeric_org = numeric_features\n",
    "        self.binary_org = binary_features\n",
    "        self.categorical_org = categorical_features\n",
    "        \n",
    "        self.numeric_new = None\n",
    "        self.binary_new = None\n",
    "        self.categorical_new = None\n",
    "    \n",
    "    def fit_transform(self, X):\n",
    "        X_num, X_cat, X_bin = [np.empty(shape = (X.shape[0],)) for i in range(3)]\n",
    "        i = 0\n",
    "                                       \n",
    "        if self.numeric_org is not None: \n",
    "            X_num = self.scaler.fit_transform(X[:, self.numeric_org])\n",
    "            self.numeric_new = list(range(len(self.numeric_org)))\n",
    "            i += len(self.numeric_org)\n",
    "        if self.binary_org is not None: \n",
    "            X_bin = X[:,self.binary_org]\n",
    "            self.binary_new = list(range(i, i+len(self.binary_org)))\n",
    "            i += len(self.binary_org)\n",
    "        if self.categorical_org is not None: \n",
    "            X_cat = self.transformer.fit_transform(X[:, self.categorical_org])\n",
    "            self.categorical_new = list(range(i, i+X_cat.shape[1]))                                    \n",
    "            \n",
    "        return np.hstack([X_num, X_bin, X_cat])\n",
    "    \n",
    "    def inverse_transform(self, X):\n",
    "        X_num, X_cat, X_bin = [np.empty(shape = (X.shape[0],)) for i in range(3)]\n",
    "                                       \n",
    "        if self.numeric_new is not None: \n",
    "            X_num = self.scaler.inverse_transform(X[:, self.numeric_new])\n",
    "        if self.binary_new is not None: \n",
    "            X_bin = X[:,self.binary_new]\n",
    "        if self.categorical_new is not None: \n",
    "            X_cat = self.transformer.inverse_transform(X[:, self.categorical_new])\n",
    "        \n",
    "        X = np.hstack([X_num, X_bin, X_cat])[:,self.var_order]\n",
    "        \n",
    "        return X "
   ]
  },
  {
   "cell_type": "code",
   "execution_count": 15,
   "metadata": {},
   "outputs": [],
   "source": [
    "numeric_features = np.where(cat_levels==0)[0]\n",
    "binary_features = np.where(cat_levels==2)[0]\n",
    "categorical_features = np.where(cat_levels>2)[0]\n",
    "\n",
    "preproc = Preprocessor(numeric_features, binary_features, categorical_features)"
   ]
  },
  {
   "cell_type": "code",
   "execution_count": 16,
   "metadata": {},
   "outputs": [
    {
     "name": "stderr",
     "output_type": "stream",
     "text": [
      "/Users/hauptjoh/anaconda/envs/deeplearning/lib/python3.6/site-packages/sklearn/utils/validation.py:590: DataConversionWarning: Data with input dtype object was converted to float64 by StandardScaler.\n",
      "  warnings.warn(msg, DataConversionWarning)\n",
      "/Users/hauptjoh/anaconda/envs/deeplearning/lib/python3.6/site-packages/sklearn/utils/validation.py:590: DataConversionWarning: Data with input dtype object was converted to float64 by StandardScaler.\n",
      "  warnings.warn(msg, DataConversionWarning)\n"
     ]
    },
    {
     "name": "stdout",
     "output_type": "stream",
     "text": [
      "(50000, 300)\n"
     ]
    }
   ],
   "source": [
    "X = preproc.fit_transform(X_cat.values)\n",
    "print(X.shape)"
   ]
  },
  {
   "cell_type": "code",
   "execution_count": 17,
   "metadata": {},
   "outputs": [],
   "source": [
    "# One-hot encode the multi-class variables while keeping all other variables in one column\n",
    "#X = pd.get_dummies(X_cat, columns=X_cat.columns[np.where(cat_levels>2)])"
   ]
  },
  {
   "cell_type": "markdown",
   "metadata": {},
   "source": [
    "### Data split"
   ]
  },
  {
   "cell_type": "code",
   "execution_count": 18,
   "metadata": {},
   "outputs": [],
   "source": [
    "# Split data in train and set set\n",
    "iSPLIT = data[\"iSPLIT\"][0][0]\n",
    "\n",
    "X = X.astype(\"float\")\n",
    "X_cat = X_cat.astype(\"float\")\n",
    "\n",
    "X_train = X[:iSPLIT,:]\n",
    "X_test = X[iSPLIT:,:]\n",
    "\n",
    "X_cat_train = X_cat.iloc[:iSPLIT,:]\n",
    "X_cat_test = X_cat.iloc[iSPLIT:,:]\n",
    "\n",
    "y_train = y[:iSPLIT]\n",
    "y_test = y[iSPLIT:]\n",
    "\n",
    "# Split off only the miniority data from training set to train WGAN\n",
    "X_minority = X_train[y_train==1,:]"
   ]
  },
  {
   "cell_type": "markdown",
   "metadata": {},
   "source": [
    "## Train WGAN"
   ]
  },
  {
   "cell_type": "code",
   "execution_count": 19,
   "metadata": {},
   "outputs": [],
   "source": [
    "# Input to critic is in the shape of the original data\n",
    "input_dim=X_train.shape[1]"
   ]
  },
  {
   "cell_type": "code",
   "execution_count": 20,
   "metadata": {},
   "outputs": [],
   "source": [
    "# Save in a list the 1) number of continuous variables, 2) the number of binary variables, \n",
    "# 3) a list with the number of levels for each multi-level categorical\n",
    "variable_type_counts = [np.sum(cat_levels==0), np.sum(cat_levels==2), cat_levels[cat_levels>2].tolist()]"
   ]
  },
  {
   "cell_type": "code",
   "execution_count": 21,
   "metadata": {},
   "outputs": [],
   "source": [
    "generator = GeneratorNet(hidden_layers=[512,256], noise_dim=input_dim,\n",
    "                         n_output_continuous=variable_type_counts[0],\n",
    "                         n_output_binary=variable_type_counts[1],\n",
    "                         n_output_categorical=variable_type_counts[2])\n",
    "#generator = GeneratorNet(noise_dim=100,n_output_continuous=7,n_output_binary=2,n_output_categorical=[3])\n",
    "critic = CriticNet(input_dim=input_dim, hidden_layers=[256,128], dropout = 0)\n",
    "wgan = WGAN(generator, critic)"
   ]
  },
  {
   "cell_type": "code",
   "execution_count": 22,
   "metadata": {},
   "outputs": [],
   "source": [
    "batch_size = 64\n",
    "#learning_rate = 1e-5\n",
    "critic_rounds = 5\n",
    "gradient_penalty_coefficient = 10"
   ]
  },
  {
   "cell_type": "code",
   "execution_count": 23,
   "metadata": {},
   "outputs": [],
   "source": [
    "X_minority_tab = TabularDataset(X_minority, label=None)\n",
    "data_loader = DataLoader(X_minority_tab, batch_size=batch_size, shuffle=True)"
   ]
  },
  {
   "cell_type": "code",
   "execution_count": 24,
   "metadata": {},
   "outputs": [],
   "source": [
    "critic_optimizer = Adam(critic.parameters(), lr=1e-4)\n",
    "generator_optimizer = Adam(generator.parameters(), lr=1e-4)"
   ]
  },
  {
   "cell_type": "code",
   "execution_count": 25,
   "metadata": {},
   "outputs": [],
   "source": [
    "num_epochs = 100"
   ]
  },
  {
   "cell_type": "code",
   "execution_count": 26,
   "metadata": {},
   "outputs": [
    {
     "name": "stdout",
     "output_type": "stream",
     "text": [
      "0.030976 | 0.030678\n",
      "5.964717 | 6.134531\n",
      "4.488928 | 4.678712\n",
      "3.264811 | 3.316189\n",
      "4.439903 | 4.370955\n",
      "5.116862 | 4.804121\n",
      "4.836254 | 4.889310\n",
      "5.252776 | 4.724717\n",
      "4.289635 | 4.620615\n",
      "6.120456 | 4.528234\n",
      "4.199671 | 4.351450\n",
      "4.384994 | 4.414765\n",
      "4.338392 | 4.151964\n",
      "3.845633 | 4.178113\n",
      "4.222526 | 4.286977\n",
      "4.040155 | 4.114914\n",
      "3.884149 | 4.156594\n",
      "3.867772 | 4.207641\n",
      "3.603073 | 4.007282\n",
      "4.457761 | 3.928514\n",
      "4.354635 | 4.078190\n",
      "3.607717 | 3.829522\n",
      "3.553346 | 3.725594\n",
      "4.215135 | 3.884580\n",
      "3.708382 | 3.835002\n",
      "3.555568 | 3.844841\n",
      "3.636928 | 3.888129\n",
      "3.842518 | 3.897818\n",
      "3.919086 | 3.926418\n",
      "3.999523 | 4.015100\n",
      "4.083104 | 3.956674\n",
      "4.265188 | 3.979872\n",
      "3.894373 | 4.076892\n",
      "4.063960 | 4.079052\n",
      "4.056717 | 3.998099\n",
      "3.897110 | 3.834529\n",
      "3.758967 | 3.710777\n",
      "4.253844 | 3.589926\n",
      "3.790805 | 3.524194\n",
      "3.431743 | 3.509839\n",
      "3.575477 | 3.675156\n",
      "3.677534 | 3.719501\n",
      "3.603547 | 3.736938\n",
      "4.050438 | 3.710171\n",
      "3.428039 | 3.554967\n",
      "3.290146 | 3.525097\n",
      "3.353095 | 3.507608\n",
      "3.395199 | 3.357407\n",
      "3.715900 | 3.425488\n",
      "2.809218 | 3.283643\n",
      "3.029984 | 3.204807\n",
      "3.333488 | 3.205407\n",
      "3.189615 | 3.270832\n",
      "3.765392 | 3.306544\n",
      "3.797023 | 3.409224\n",
      "3.413306 | 3.253044\n",
      "3.704649 | 3.427307\n",
      "3.597918 | 3.382258\n",
      "2.876811 | 3.020490\n",
      "2.983570 | 2.963317\n",
      "2.781620 | 2.949508\n",
      "3.150566 | 3.031862\n",
      "3.427728 | 3.137907\n",
      "2.917910 | 3.258454\n",
      "3.308431 | 3.138465\n",
      "3.354943 | 3.003839\n",
      "2.814112 | 2.821943\n",
      "2.809265 | 2.885842\n",
      "2.964593 | 3.177033\n",
      "3.640719 | 3.390387\n",
      "2.867792 | 3.272098\n",
      "3.360743 | 3.117373\n",
      "2.873868 | 2.999247\n",
      "3.009893 | 2.909084\n",
      "3.374113 | 2.962271\n",
      "2.946093 | 3.004481\n",
      "3.137188 | 2.829444\n",
      "3.038107 | 2.791052\n",
      "2.738537 | 2.872097\n",
      "2.928655 | 2.999560\n",
      "3.014342 | 3.104264\n",
      "3.058215 | 3.048975\n",
      "3.117333 | 2.924097\n",
      "2.960140 | 2.812893\n",
      "2.579699 | 2.662492\n",
      "2.599188 | 2.625769\n",
      "2.932313 | 2.914490\n",
      "3.092172 | 3.080186\n",
      "3.074064 | 3.075676\n",
      "3.241675 | 2.852811\n",
      "3.160702 | 2.809006\n",
      "2.866411 | 2.771900\n",
      "2.803196 | 2.810201\n",
      "2.928699 | 2.843166\n",
      "2.921961 | 2.710588\n",
      "2.799486 | 2.649732\n",
      "2.616934 | 2.803891\n",
      "2.921671 | 2.680234\n",
      "2.740216 | 2.810565\n",
      "2.374513 | 2.669767\n"
     ]
    }
   ],
   "source": [
    "critic_performance, generator_performance = wgan.train_WGAN(\n",
    "    data_loader=data_loader, critic_optimizer=critic_optimizer, generator_optimizer=generator_optimizer,\n",
    "    num_epochs =num_epochs, gradient_penalty_coefficient= gradient_penalty_coefficient,\n",
    "    critic_rounds=critic_rounds,\n",
    "    val_data=torch.from_numpy(X_minority).float()) #torch.from_numpy(X_test).float()"
   ]
  },
  {
   "cell_type": "markdown",
   "metadata": {},
   "source": [
    "# Synthetic data evaluation"
   ]
  },
  {
   "cell_type": "markdown",
   "metadata": {},
   "source": [
    "### Distributional distance"
   ]
  },
  {
   "cell_type": "code",
   "execution_count": 27,
   "metadata": {},
   "outputs": [],
   "source": [
    "fake = pd.DataFrame(wgan.generator.sample(make_noise(20000, dim=wgan.generator.noise_dim)).detach().numpy())"
   ]
  },
  {
   "cell_type": "code",
   "execution_count": 28,
   "metadata": {},
   "outputs": [
    {
     "data": {
      "text/html": [
       "<div>\n",
       "<style scoped>\n",
       "    .dataframe tbody tr th:only-of-type {\n",
       "        vertical-align: middle;\n",
       "    }\n",
       "\n",
       "    .dataframe tbody tr th {\n",
       "        vertical-align: top;\n",
       "    }\n",
       "\n",
       "    .dataframe thead th {\n",
       "        text-align: right;\n",
       "    }\n",
       "</style>\n",
       "<table border=\"1\" class=\"dataframe\">\n",
       "  <thead>\n",
       "    <tr style=\"text-align: right;\">\n",
       "      <th></th>\n",
       "      <th>0</th>\n",
       "      <th>1</th>\n",
       "      <th>2</th>\n",
       "      <th>3</th>\n",
       "      <th>4</th>\n",
       "      <th>5</th>\n",
       "      <th>6</th>\n",
       "      <th>7</th>\n",
       "      <th>8</th>\n",
       "      <th>9</th>\n",
       "      <th>...</th>\n",
       "      <th>290</th>\n",
       "      <th>291</th>\n",
       "      <th>292</th>\n",
       "      <th>293</th>\n",
       "      <th>294</th>\n",
       "      <th>295</th>\n",
       "      <th>296</th>\n",
       "      <th>297</th>\n",
       "      <th>298</th>\n",
       "      <th>299</th>\n",
       "    </tr>\n",
       "  </thead>\n",
       "  <tbody>\n",
       "    <tr>\n",
       "      <th>0</th>\n",
       "      <td>-0.0025</td>\n",
       "      <td>-0.0027</td>\n",
       "      <td>-0.0026</td>\n",
       "      <td>0.0057</td>\n",
       "      <td>-0.0216</td>\n",
       "      <td>-0.0705</td>\n",
       "      <td>-0.0001</td>\n",
       "      <td>0.0202</td>\n",
       "      <td>-0.0097</td>\n",
       "      <td>-0.004</td>\n",
       "      <td>...</td>\n",
       "      <td>0.6566</td>\n",
       "      <td>0.0985</td>\n",
       "      <td>0.1559</td>\n",
       "      <td>0.0890</td>\n",
       "      <td>0.9187</td>\n",
       "      <td>0.0547</td>\n",
       "      <td>0.0267</td>\n",
       "      <td>0.5807</td>\n",
       "      <td>0.2291</td>\n",
       "      <td>0.1902</td>\n",
       "    </tr>\n",
       "    <tr>\n",
       "      <th>1</th>\n",
       "      <td>0.0441</td>\n",
       "      <td>-0.0092</td>\n",
       "      <td>-0.0321</td>\n",
       "      <td>-0.1136</td>\n",
       "      <td>-0.0238</td>\n",
       "      <td>0.0188</td>\n",
       "      <td>0.0349</td>\n",
       "      <td>0.2405</td>\n",
       "      <td>-0.0800</td>\n",
       "      <td>-0.007</td>\n",
       "      <td>...</td>\n",
       "      <td>0.6537</td>\n",
       "      <td>0.0880</td>\n",
       "      <td>0.1567</td>\n",
       "      <td>0.1016</td>\n",
       "      <td>0.8964</td>\n",
       "      <td>0.0588</td>\n",
       "      <td>0.0448</td>\n",
       "      <td>0.5518</td>\n",
       "      <td>0.2369</td>\n",
       "      <td>0.2113</td>\n",
       "    </tr>\n",
       "  </tbody>\n",
       "</table>\n",
       "<p>2 rows × 300 columns</p>\n",
       "</div>"
      ],
      "text/plain": [
       "      0       1       2       3       4       5       6       7       8    \\\n",
       "0 -0.0025 -0.0027 -0.0026  0.0057 -0.0216 -0.0705 -0.0001  0.0202 -0.0097   \n",
       "1  0.0441 -0.0092 -0.0321 -0.1136 -0.0238  0.0188  0.0349  0.2405 -0.0800   \n",
       "\n",
       "     9     ...       290     291     292     293     294     295     296  \\\n",
       "0 -0.004   ...    0.6566  0.0985  0.1559  0.0890  0.9187  0.0547  0.0267   \n",
       "1 -0.007   ...    0.6537  0.0880  0.1567  0.1016  0.8964  0.0588  0.0448   \n",
       "\n",
       "      297     298     299  \n",
       "0  0.5807  0.2291  0.1902  \n",
       "1  0.5518  0.2369  0.2113  \n",
       "\n",
       "[2 rows x 300 columns]"
      ]
     },
     "execution_count": 28,
     "metadata": {},
     "output_type": "execute_result"
    }
   ],
   "source": [
    "pd.DataFrame(np.vstack([np.round(np.mean(X_minority, axis=0),4), \n",
    "                        np.round(np.mean(fake.values, axis=0),4)]))"
   ]
  },
  {
   "cell_type": "code",
   "execution_count": 29,
   "metadata": {},
   "outputs": [
    {
     "name": "stderr",
     "output_type": "stream",
     "text": [
      "/Users/hauptjoh/anaconda/envs/deeplearning/lib/python3.6/site-packages/scipy/stats/stats.py:1713: FutureWarning: Using a non-tuple sequence for multidimensional indexing is deprecated; use `arr[tuple(seq)]` instead of `arr[seq]`. In the future this will be interpreted as an array index, `arr[np.array(seq)]`, which will result either in an error or a different result.\n",
      "  return np.add.reduce(sorted[indexer] * weights, axis=axis) / sumval\n"
     ]
    },
    {
     "data": {
      "image/png": "[encoded data removed]",
      "text/plain": [
       "<Figure size 432x288 with 1 Axes>"
      ]
     },
     "metadata": {
      "needs_background": "light"
     },
     "output_type": "display_data"
    },
    {
     "data": {
      "image/png": "[encoded data removed]",
      "text/plain": [
       "<Figure size 432x288 with 1 Axes>"
      ]
     },
     "metadata": {
      "needs_background": "light"
     },
     "output_type": "display_data"
    },
    {
     "data": {
      "image/png": "[encoded data removed]",
      "text/plain": [
       "<Figure size 432x288 with 1 Axes>"
      ]
     },
     "metadata": {
      "needs_background": "light"
     },
     "output_type": "display_data"
    },
    {
     "data": {
      "image/png": "[encoded data removed]",
      "text/plain": [
       "<Figure size 432x288 with 1 Axes>"
      ]
     },
     "metadata": {
      "needs_background": "light"
     },
     "output_type": "display_data"
    },
    {
     "data": {
      "image/png": "[encoded data removed]",
      "text/plain": [
       "<Figure size 432x288 with 1 Axes>"
      ]
     },
     "metadata": {
      "needs_background": "light"
     },
     "output_type": "display_data"
    }
   ],
   "source": [
    "for i in range(90,95):\n",
    "    sns.kdeplot(X_minority[:,i], alpha=0.5, )\n",
    "    sns.kdeplot(fake.iloc[:,i], alpha=0.5, color=\"red\")\n",
    "    plt.show()"
   ]
  },
  {
   "cell_type": "markdown",
   "metadata": {},
   "source": [
    "### Fake/real prediction"
   ]
  },
  {
   "cell_type": "code",
   "execution_count": 30,
   "metadata": {},
   "outputs": [
    {
     "name": "stdout",
     "output_type": "stream",
     "text": [
      "(20000,)\n",
      "(2213,)\n"
     ]
    }
   ],
   "source": [
    "print(np.ones(fake.values.shape[0]).shape)\n",
    "print(np.zeros(X_minority.shape[0]).shape)"
   ]
  },
  {
   "cell_type": "code",
   "execution_count": 31,
   "metadata": {},
   "outputs": [
    {
     "ename": "NameError",
     "evalue": "name 'y_fakereal' is not defined",
     "output_type": "error",
     "traceback": [
      "\u001b[0;31m---------------------------------------------------------------------------\u001b[0m",
      "\u001b[0;31mNameError\u001b[0m                                 Traceback (most recent call last)",
      "\u001b[0;32m<ipython-input-31-e8e3dfe2b227>\u001b[0m in \u001b[0;36m<module>\u001b[0;34m\u001b[0m\n\u001b[0;32m----> 1\u001b[0;31m \u001b[0my_fakereal\u001b[0m\u001b[0;34m.\u001b[0m\u001b[0mshape\u001b[0m\u001b[0;34m\u001b[0m\u001b[0m\n\u001b[0m",
      "\u001b[0;31mNameError\u001b[0m: name 'y_fakereal' is not defined"
     ]
    }
   ],
   "source": [
    "y_fakereal.shape"
   ]
  },
  {
   "cell_type": "code",
   "execution_count": null,
   "metadata": {},
   "outputs": [],
   "source": [
    "X_fakereal = np.vstack([X_minority, \n",
    "                        fake.values])\n",
    "y_fakereal = np.concatenate([np.zeros(X_minority.shape[0]), \n",
    "                        np.ones(fake.values.shape[0])]).flatten()"
   ]
  },
  {
   "cell_type": "code",
   "execution_count": null,
   "metadata": {},
   "outputs": [],
   "source": [
    "clf = RandomForestClassifier(n_estimators=100, min_samples_leaf=100, random_state=123)\n",
    "model_fakereal = clf.fit(X_fakereal, y_fakereal)"
   ]
  },
  {
   "cell_type": "code",
   "execution_count": null,
   "metadata": {},
   "outputs": [],
   "source": [
    "pred_fakereal = model_fakereal.predict_proba(X_fakereal)[:,1]\n",
    "roc_auc_score(y_fakereal, pred_fakereal)"
   ]
  },
  {
   "cell_type": "code",
   "execution_count": null,
   "metadata": {},
   "outputs": [],
   "source": [
    "importances = model_fakereal.feature_importances_\n",
    "std = np.std([tree.feature_importances_ for tree in model_fakereal.estimators_],\n",
    "             axis=0)\n",
    "indices = np.argsort(importances)[::-1]\n",
    "\n",
    "# Print the feature ranking\n",
    "print(\"Feature ranking:\")\n",
    "\n",
    "for f in range(10):\n",
    "    print(\"%d. feature %d (%f)\" % (f + 1, indices[f], importances[indices[f]]))\n"
   ]
  },
  {
   "cell_type": "markdown",
   "metadata": {},
   "source": [
    "## Model performance"
   ]
  },
  {
   "cell_type": "code",
   "execution_count": null,
   "metadata": {},
   "outputs": [],
   "source": [
    "np.sum(y_train==1)"
   ]
  },
  {
   "cell_type": "code",
   "execution_count": null,
   "metadata": {},
   "outputs": [],
   "source": [
    "round(np.sum(y_train==1) / np.sum(y_train==0),2)"
   ]
  },
  {
   "cell_type": "code",
   "execution_count": null,
   "metadata": {},
   "outputs": [],
   "source": [
    "pred = {}\n",
    "model = {}"
   ]
  },
  {
   "cell_type": "code",
   "execution_count": null,
   "metadata": {},
   "outputs": [],
   "source": [
    "clf = RandomForestClassifier(n_estimators=100, min_samples_leaf=100, random_state=123)\n",
    "\n",
    "model[\"org\"] = clf.fit(X_train, y_train)\n",
    "pred[\"org\"] = model[\"org\"].predict_proba(X_test)[:,1]"
   ]
  },
  {
   "cell_type": "markdown",
   "metadata": {},
   "source": [
    "### GANbalance"
   ]
  },
  {
   "cell_type": "code",
   "execution_count": null,
   "metadata": {},
   "outputs": [],
   "source": [
    "balanced_ratio = 0.1"
   ]
  },
  {
   "cell_type": "code",
   "execution_count": null,
   "metadata": {},
   "outputs": [],
   "source": [
    "#n_samples = np.sum(y_train==0) - np.sum(y_train==1)\n",
    "n_samples = int(np.sum(y_train==0) * balanced_ratio)"
   ]
  },
  {
   "cell_type": "code",
   "execution_count": null,
   "metadata": {},
   "outputs": [],
   "source": [
    "sample = wgan.generator.sample(make_noise(size=n_samples, dim=wgan.generator.noise_dim)).detach().numpy()"
   ]
  },
  {
   "cell_type": "code",
   "execution_count": null,
   "metadata": {},
   "outputs": [],
   "source": [
    "X_train_upsampled = np.vstack([X_train, \n",
    "                               sample]\n",
    "                                )\n",
    "y_train_upsampled = np.concatenate([y_train, np.ones(n_samples)])"
   ]
  },
  {
   "cell_type": "code",
   "execution_count": null,
   "metadata": {},
   "outputs": [],
   "source": [
    "model[\"up\"] = clf.fit(X_train_upsampled, y_train_upsampled)\n",
    "pred[\"up\"] = model[\"up\"].predict_proba(X_test)[:,1]"
   ]
  },
  {
   "cell_type": "markdown",
   "metadata": {},
   "source": [
    "### SMOTE"
   ]
  },
  {
   "cell_type": "code",
   "execution_count": null,
   "metadata": {},
   "outputs": [],
   "source": [
    "from imblearn.over_sampling import SMOTENC\n",
    "from imblearn.under_sampling import TomekLinks"
   ]
  },
  {
   "cell_type": "code",
   "execution_count": null,
   "metadata": {},
   "outputs": [],
   "source": [
    "#smote_nc = TomekLinks(sampling_strategy=1, random_state=0, n_jobs=20)\n",
    "#X_cat_train_smote, y_train_smote = smote_nc.fit_resample(X_cat_train, y_train)"
   ]
  },
  {
   "cell_type": "code",
   "execution_count": null,
   "metadata": {},
   "outputs": [],
   "source": [
    "smote_nc = SMOTENC(sampling_strategy = balanced_ratio, categorical_features=np.where(cat_levels>1)[0], random_state=0, n_jobs=20, )\n",
    "X_cat_train_smote, y_train_smote = smote_nc.fit_resample(X_cat_train, y_train)"
   ]
  },
  {
   "cell_type": "code",
   "execution_count": null,
   "metadata": {},
   "outputs": [],
   "source": [
    "X_train_smote = pd.DataFrame(X_cat_train_smote)\n",
    "X_train_smote = pd.get_dummies(X_train_smote, columns=X_train_smote.columns[np.where(cat_levels>2)])"
   ]
  },
  {
   "cell_type": "code",
   "execution_count": null,
   "metadata": {},
   "outputs": [],
   "source": [
    "model[\"smote\"] = clf.fit(X_train_smote, y_train_smote)\n",
    "pred['smote'] = model[\"smote\"].predict_proba(X_test)[:,1]"
   ]
  },
  {
   "cell_type": "markdown",
   "metadata": {},
   "source": [
    "### Comparison"
   ]
  },
  {
   "cell_type": "code",
   "execution_count": null,
   "metadata": {},
   "outputs": [],
   "source": [
    "{model:roc_auc_score(y_test, pred[model]) for model in pred}"
   ]
  },
  {
   "cell_type": "code",
   "execution_count": null,
   "metadata": {},
   "outputs": [],
   "source": []
  },
  {
   "cell_type": "code",
   "execution_count": null,
   "metadata": {},
   "outputs": [],
   "source": []
  }
 ],
 "metadata": {
  "kernelspec": {
   "display_name": "Python [deeplearning]",
   "language": "python",
   "name": "Python [deeplearning]"
  },
  "language_info": {
   "codemirror_mode": {
    "name": "ipython",
    "version": 3
   },
   "file_extension": ".py",
   "mimetype": "text/x-python",
   "name": "python",
   "nbconvert_exporter": "python",
   "pygments_lexer": "ipython3",
   "version": "3.6.6"
  }
 },
 "nbformat": 4,
 "nbformat_minor": 2
}
