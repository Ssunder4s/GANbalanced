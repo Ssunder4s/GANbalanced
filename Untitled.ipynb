{
 "cells": [
  {
   "cell_type": "code",
   "execution_count": 26,
   "metadata": {},
   "outputs": [],
   "source": [
    "from torch import nn\n",
    "import torch"
   ]
  },
  {
   "cell_type": "code",
   "execution_count": 19,
   "metadata": {},
   "outputs": [],
   "source": [
    "lin_layer_sizes = [10,10,20]"
   ]
  },
  {
   "cell_type": "code",
   "execution_count": 20,
   "metadata": {},
   "outputs": [],
   "source": [
    "first_lin_layer = nn.Linear(2,\n",
    "                            lin_layer_sizes[0])"
   ]
  },
  {
   "cell_type": "code",
   "execution_count": 21,
   "metadata": {},
   "outputs": [],
   "source": [
    "lin_layers = [first_lin_layer] +\\\n",
    "    [nn.Linear(input_, output_) for input_, output_ in\n",
    "    zip(lin_layer_sizes, lin_layer_sizes[1:])]\n",
    "    "
   ]
  },
  {
   "cell_type": "code",
   "execution_count": 22,
   "metadata": {},
   "outputs": [],
   "source": [
    "layer_norm_layers = [nn.LayerNorm(nodes) for nodes in lin_layer_sizes]"
   ]
  },
  {
   "cell_type": "code",
   "execution_count": 25,
   "metadata": {},
   "outputs": [],
   "source": [
    "model = nn.ModuleList([item for pair in zip(lin_layers,layer_norm_layers) for item in pair])"
   ]
  },
  {
   "cell_type": "code",
   "execution_count": 67,
   "metadata": {},
   "outputs": [
    {
     "data": {
      "text/plain": [
       "[Linear(in_features=2, out_features=10, bias=True),\n",
       " LayerNorm(torch.Size([10]), eps=1e-05, elementwise_affine=True),\n",
       " Linear(in_features=10, out_features=10, bias=True),\n",
       " LayerNorm(torch.Size([10]), eps=1e-05, elementwise_affine=True),\n",
       " Linear(in_features=10, out_features=20, bias=True),\n",
       " LayerNorm(torch.Size([20]), eps=1e-05, elementwise_affine=True)]"
      ]
     },
     "execution_count": 67,
     "metadata": {},
     "output_type": "execute_result"
    }
   ],
   "source": [
    "[item for pair in zip(lin_layers,layer_norm_layers) for item in pair]"
   ]
  },
  {
   "cell_type": "code",
   "execution_count": 75,
   "metadata": {},
   "outputs": [
    {
     "name": "stdout",
     "output_type": "stream",
     "text": [
      "tensor([[-0.2040, -0.5754,  1.1656, -1.4568,  1.0707],\n",
      "        [ 0.5622, -0.6237,  0.7607, -1.6671,  0.9679],\n",
      "        [-1.1065,  1.0687,  1.2890, -0.3180, -0.9332],\n",
      "        [ 1.8027, -1.2517,  0.0504, -0.2879, -0.3135],\n",
      "        [-0.5409,  0.4352,  1.7435, -0.5573, -1.0805],\n",
      "        [-0.5434,  1.2910,  0.9184, -0.1979, -1.4681],\n",
      "        [-0.7075,  1.9514, -0.6171, -0.0743, -0.5525],\n",
      "        [ 0.3030, -0.5833,  0.9800, -1.6465,  0.9468],\n",
      "        [ 1.3068, -1.4362,  0.9457, -0.3750, -0.4413],\n",
      "        [ 1.5315,  0.4168, -1.4809, -0.5322,  0.0648],\n",
      "        [-1.1578, -1.0976,  0.0453,  1.1777,  1.0324],\n",
      "        [ 1.6121, -1.1186, -0.9967,  0.3739,  0.1293],\n",
      "        [-1.1798,  0.5103,  0.3501,  1.4195, -1.1001],\n",
      "        [ 1.1421, -1.2081, -0.6860,  1.2370, -0.4849],\n",
      "        [-1.4109, -0.3911,  1.2530,  1.0281, -0.4790],\n",
      "        [ 0.3071,  1.2548, -1.5812,  0.6541, -0.6349],\n",
      "        [-1.1757,  0.4354,  1.7085, -0.6264, -0.3419],\n",
      "        [ 0.6764, -1.4674,  0.6101,  1.0906, -0.9097],\n",
      "        [-1.7966,  0.1597,  1.2347, -0.0648,  0.4670],\n",
      "        [ 1.1142, -0.6325, -0.8045, -0.9916,  1.3144]],\n",
      "       grad_fn=<AddcmulBackward>)\n"
     ]
    }
   ],
   "source": [
    "input = torch.randn(20, 5)\n",
    "# With Learnable Parameters\n",
    "#m = nn.LayerNorm(input.size()[1:])\n",
    "# Without Learnable Parameters\n",
    "#m = nn.LayerNorm(input.size()[1:], elementwise_affine=False)\n",
    "# Normalize over last two dimensions\n",
    "m = nn.LayerNorm(5)\n",
    "# Normalize over last dimension of size 10\n",
    "#m = nn.LayerNorm([20,5])\n",
    "# Activating the module\n",
    "output = m(input)\n",
    "print(output)"
   ]
  },
  {
   "cell_type": "code",
   "execution_count": 76,
   "metadata": {},
   "outputs": [
    {
     "data": {
      "text/plain": [
       "tensor([[-0.1039, -0.4526,  1.1821, -1.2803,  1.0930],\n",
       "        [ 0.6024, -0.5620,  0.7974, -1.5865,  1.0008],\n",
       "        [-0.6843,  1.7341,  1.9790,  0.1924, -0.4915],\n",
       "        [ 2.6394, -1.1233,  0.4808,  0.0640,  0.0324],\n",
       "        [-0.3342,  0.1703,  0.8466, -0.3427, -0.6131],\n",
       "        [-0.0051,  0.7623,  0.6064,  0.1394, -0.3919],\n",
       "        [-1.2652,  1.2831, -1.1785, -0.6583, -1.1166],\n",
       "        [ 0.7211, -0.4303,  1.6006, -1.8116,  1.5576],\n",
       "        [ 1.5123, -1.3615,  1.1340, -0.2496, -0.3191],\n",
       "        [ 1.8365,  0.6515, -1.3658, -0.3573,  0.2773],\n",
       "        [-1.5073, -1.4259,  0.1179,  1.6476,  1.4513],\n",
       "        [ 2.7610, -1.0637, -0.8929,  1.0268,  0.6843],\n",
       "        [-1.8787,  0.1237, -0.0660,  1.2010, -1.7843],\n",
       "        [ 1.3070, -0.6093, -0.1836,  1.3843, -0.0197],\n",
       "        [-1.5453, -0.3249,  1.6428,  1.3736, -0.4300],\n",
       "        [ 0.2740,  0.9297, -1.0325,  0.5140, -0.3778],\n",
       "        [-1.4535,  0.1450,  1.4082, -0.9085, -0.6262],\n",
       "        [ 0.9132, -1.0895,  0.8513,  1.3001, -0.5685],\n",
       "        [-1.6929,  0.1583,  1.1755, -0.0541,  0.4491],\n",
       "        [ 1.0713,  0.3357,  0.2633,  0.1845,  1.1556]])"
      ]
     },
     "execution_count": 76,
     "metadata": {},
     "output_type": "execute_result"
    }
   ],
   "source": [
    "input"
   ]
  },
  {
   "cell_type": "code",
   "execution_count": 77,
   "metadata": {},
   "outputs": [],
   "source": [
    "temp = input[0,:]"
   ]
  },
  {
   "cell_type": "code",
   "execution_count": 78,
   "metadata": {},
   "outputs": [
    {
     "data": {
      "text/plain": [
       "tensor([-0.1039, -0.4526,  1.1821, -1.2803,  1.0930])"
      ]
     },
     "execution_count": 78,
     "metadata": {},
     "output_type": "execute_result"
    }
   ],
   "source": [
    "temp"
   ]
  },
  {
   "cell_type": "code",
   "execution_count": 80,
   "metadata": {},
   "outputs": [
    {
     "data": {
      "text/plain": [
       "tensor([-0.2040, -0.5754,  1.1656, -1.4569,  1.0707])"
      ]
     },
     "execution_count": 80,
     "metadata": {},
     "output_type": "execute_result"
    }
   ],
   "source": [
    "( temp - temp.mean() )/ temp.std(unbiased=False)"
   ]
  },
  {
   "cell_type": "code",
   "execution_count": 57,
   "metadata": {},
   "outputs": [
    {
     "data": {
      "text/plain": [
       "[Parameter containing:\n",
       " tensor([1., 1., 1., 1., 1.], requires_grad=True), Parameter containing:\n",
       " tensor([0., 0., 0., 0., 0.], requires_grad=True)]"
      ]
     },
     "execution_count": 57,
     "metadata": {},
     "output_type": "execute_result"
    }
   ],
   "source": [
    "list(m.parameters())"
   ]
  },
  {
   "cell_type": "code",
   "execution_count": null,
   "metadata": {},
   "outputs": [],
   "source": []
  }
 ],
 "metadata": {
  "kernelspec": {
   "display_name": "Python [deeplearning]",
   "language": "python",
   "name": "Python [deeplearning]"
  },
  "language_info": {
   "codemirror_mode": {
    "name": "ipython",
    "version": 3
   },
   "file_extension": ".py",
   "mimetype": "text/x-python",
   "name": "python",
   "nbconvert_exporter": "python",
   "pygments_lexer": "ipython3",
   "version": "3.6.7"
  }
 },
 "nbformat": 4,
 "nbformat_minor": 2
}
