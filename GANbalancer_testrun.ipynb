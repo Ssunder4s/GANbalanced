{
 "cells": [
  {
   "cell_type": "code",
   "execution_count": 22,
   "metadata": {},
   "outputs": [
    {
     "name": "stdout",
     "output_type": "stream",
     "text": [
      "env: MKL_NUM_THREADS=1\n",
      "env: NUMEXPR_NUM_THREADS=1\n",
      "env: OMP_NUM_THREADS=1\n",
      "env: OPENBLAS_NUM_THREADS=1\n",
      "env: VECLIB_MAXIMUM_THREADS=1\n"
     ]
    }
   ],
   "source": [
    "%env MKL_NUM_THREADS=1\n",
    "%env NUMEXPR_NUM_THREADS=1\n",
    "%env OMP_NUM_THREADS=1\n",
    "%env OPENBLAS_NUM_THREADS=1\n",
    "%env VECLIB_MAXIMUM_THREADS=1"
   ]
  },
  {
   "cell_type": "code",
   "execution_count": 23,
   "metadata": {},
   "outputs": [],
   "source": [
    "from wgan.imblearn import GANbalancer"
   ]
  },
  {
   "cell_type": "code",
   "execution_count": 24,
   "metadata": {},
   "outputs": [],
   "source": [
    "import numpy as np\n",
    "import pandas as pd\n",
    "\n",
    "from sklearn.preprocessing import MinMaxScaler, KBinsDiscretizer\n",
    "from sklearn.compose import ColumnTransformer\n",
    "from sklearn.model_selection import StratifiedKFold, GridSearchCV, cross_validate\n",
    "from sklearn.ensemble import RandomForestClassifier\n",
    "from sklearn.linear_model import LogisticRegression\n",
    "from sklearn.metrics import roc_auc_score, make_scorer\n",
    "\n",
    "from imblearn.pipeline import Pipeline\n",
    "from imblearn.over_sampling import SMOTE, SMOTENC, ADASYN\n",
    "\n",
    "from functools import partial\n",
    "from lift.perc_lift_score import perc_lift_score"
   ]
  },
  {
   "cell_type": "code",
   "execution_count": 25,
   "metadata": {},
   "outputs": [],
   "source": [
    "from sklearn.datasets import make_classification\n",
    "X,y = make_classification(n_samples=4000, n_features=20, weights=[0.95,0.05], \n",
    "                          n_informative=20, n_redundant=0, n_clusters_per_class=1)\n",
    "#scaler = MinMaxScaler()\n",
    "#X = scaler.fit_transform(X)\n",
    "#idx_cont = list(range(20))\n",
    "#categorical = None"
   ]
  },
  {
   "cell_type": "code",
   "execution_count": 29,
   "metadata": {},
   "outputs": [],
   "source": [
    "no_cont = 15\n",
    "ct = ColumnTransformer([\n",
    "    (\"scaler\", MinMaxScaler(), slice(0,no_cont)),\n",
    "    (\"discretizer\", KBinsDiscretizer(n_bins=5, encode='ordinal', strategy=\"quantile\"),\n",
    "     slice(no_cont,20))\n",
    "], remainder=\"drop\")\n",
    "X = ct.fit_transform(X)\n",
    "\n",
    "idx_cat = list(range(no_cont,20))\n",
    "idx_cont = list(range(no_cont))\n",
    "categorical = [(i, 5, 3) for i in range(no_cont,20)]"
   ]
  },
  {
   "cell_type": "code",
   "execution_count": 27,
   "metadata": {},
   "outputs": [],
   "source": [
    "gan = GANbalancer(idx_cont=idx_cont, categorical=categorical, sampling_strategy='auto',#{0:0,1:900},\n",
    "                 generator_input=100, generator_layers=[100,100], critic_layers=[100], \n",
    "                  n_iter=100000, critic_iterations=2, verbose=1, learning_rate=(10e-3,10e-3),\n",
    "                 auxiliary = True)"
   ]
  },
  {
   "cell_type": "code",
   "execution_count": 6,
   "metadata": {},
   "outputs": [
    {
     "name": "stderr",
     "output_type": "stream",
     "text": [
      "6it [00:25,  4.18s/it]               \n"
     ]
    },
    {
     "data": {
      "text/plain": [
       "GANbalancer(auxiliary=True, batch_size=64,\n",
       "      categorical=[(15, 5, 3), (16, 5, 3), (17, 5, 3), (18, 5, 3), (19, 5, 3)],\n",
       "      critic_iterations=2, critic_layers=[100], generator_input=100,\n",
       "      generator_layers=[100, 100, 100],\n",
       "      idx_cont=[0, 1, 2, 3, 4, 5, 6, 7, 8, 9, 10, 11, 12, 13, 14],\n",
       "      learning_rate=(0.01, 0.01), n_iter=1, random_state=None,\n",
       "      sampling_strategy='auto', verbose=1)"
      ]
     },
     "execution_count": 6,
     "metadata": {},
     "output_type": "execute_result"
    }
   ],
   "source": [
    "gan._fit(X,y)"
   ]
  },
  {
   "cell_type": "code",
   "execution_count": null,
   "metadata": {},
   "outputs": [],
   "source": [
    "gan.sampling_strategy_"
   ]
  },
  {
   "cell_type": "code",
   "execution_count": null,
   "metadata": {},
   "outputs": [],
   "source": [
    "(np.sum(y), np.sum(-y+1))"
   ]
  },
  {
   "cell_type": "code",
   "execution_count": null,
   "metadata": {},
   "outputs": [],
   "source": [
    "gan.sampling_strategy_ = {0:3780,1:220}"
   ]
  },
  {
   "cell_type": "code",
   "execution_count": null,
   "metadata": {},
   "outputs": [],
   "source": [
    "gan.generator.sample_data(n_samples, class_sample).shape"
   ]
  },
  {
   "cell_type": "code",
   "execution_count": null,
   "metadata": {},
   "outputs": [],
   "source": [
    "gan.generator.sample_output_dim"
   ]
  },
  {
   "cell_type": "code",
   "execution_count": 7,
   "metadata": {},
   "outputs": [
    {
     "name": "stderr",
     "output_type": "stream",
     "text": [
      "100004it [42:55, 36.54it/s]                           \n"
     ]
    }
   ],
   "source": [
    "#X_new, y_new = gan.fit_resample(X,y)\n",
    "X_new, y_new = gan.fit_resample(X,y)"
   ]
  },
  {
   "cell_type": "code",
   "execution_count": 8,
   "metadata": {},
   "outputs": [
    {
     "data": {
      "text/plain": [
       "100004"
      ]
     },
     "execution_count": 8,
     "metadata": {},
     "output_type": "execute_result"
    }
   ],
   "source": [
    "gan.generator.training_iterations"
   ]
  },
  {
   "cell_type": "code",
   "execution_count": 9,
   "metadata": {},
   "outputs": [
    {
     "data": {
      "text/plain": [
       "(4000, 20)"
      ]
     },
     "execution_count": 9,
     "metadata": {},
     "output_type": "execute_result"
    }
   ],
   "source": [
    "X.shape"
   ]
  },
  {
   "cell_type": "code",
   "execution_count": 10,
   "metadata": {},
   "outputs": [
    {
     "data": {
      "text/plain": [
       "224"
      ]
     },
     "execution_count": 10,
     "metadata": {},
     "output_type": "execute_result"
    }
   ],
   "source": [
    "np.sum(y)"
   ]
  },
  {
   "cell_type": "code",
   "execution_count": 11,
   "metadata": {},
   "outputs": [
    {
     "data": {
      "text/plain": [
       "(7552, 20)"
      ]
     },
     "execution_count": 11,
     "metadata": {},
     "output_type": "execute_result"
    }
   ],
   "source": [
    "X_new.shape"
   ]
  },
  {
   "cell_type": "code",
   "execution_count": 12,
   "metadata": {},
   "outputs": [
    {
     "data": {
      "text/plain": [
       "3776.0"
      ]
     },
     "execution_count": 12,
     "metadata": {},
     "output_type": "execute_result"
    }
   ],
   "source": [
    "np.sum(y_new)"
   ]
  },
  {
   "cell_type": "code",
   "execution_count": 13,
   "metadata": {},
   "outputs": [],
   "source": [
    "from sklearn.linear_model import LogisticRegression"
   ]
  },
  {
   "cell_type": "code",
   "execution_count": 14,
   "metadata": {},
   "outputs": [
    {
     "name": "stderr",
     "output_type": "stream",
     "text": [
      "/home/RDC/hauptjoh.hub/miniconda3/envs/deeplearning/lib/python3.7/site-packages/sklearn/linear_model/logistic.py:433: FutureWarning: Default solver will be changed to 'lbfgs' in 0.22. Specify a solver to silence this warning.\n",
      "  FutureWarning)\n",
      "/home/RDC/hauptjoh.hub/miniconda3/envs/deeplearning/lib/python3.7/site-packages/sklearn/linear_model/logistic.py:433: FutureWarning: Default solver will be changed to 'lbfgs' in 0.22. Specify a solver to silence this warning.\n",
      "  FutureWarning)\n"
     ]
    }
   ],
   "source": [
    "logit1 = LogisticRegression().fit(X,y)\n",
    "logit2 = LogisticRegression().fit(X_new, y_new)"
   ]
  },
  {
   "cell_type": "code",
   "execution_count": 15,
   "metadata": {},
   "outputs": [
    {
     "data": {
      "text/plain": [
       "(0.9347760290556901, 0.9327153166616222)"
      ]
     },
     "execution_count": 15,
     "metadata": {},
     "output_type": "execute_result"
    }
   ],
   "source": [
    "(roc_auc_score(y, logit1.predict_proba(X)[:,1]),\n",
    " roc_auc_score(y, logit2.predict_proba(X)[:,1]))"
   ]
  },
  {
   "cell_type": "code",
   "execution_count": 205,
   "metadata": {},
   "outputs": [
    {
     "data": {
      "text/plain": [
       "array([0.48781312, 0.49597541, 0.47556518, 0.50464357, 0.48554259,\n",
       "       0.52836438, 0.49910371, 0.46033013, 0.47676461, 0.49288087,\n",
       "       0.45779924, 0.496846  , 0.49759343, 0.40910822, 0.50892458,\n",
       "       1.96269841, 1.9952381 , 1.99920635, 2.0037037 , 2.0005291 ])"
      ]
     },
     "execution_count": 205,
     "metadata": {},
     "output_type": "execute_result"
    }
   ],
   "source": [
    "X[y==0,:].mean(axis=0)"
   ]
  },
  {
   "cell_type": "code",
   "execution_count": 206,
   "metadata": {},
   "outputs": [
    {
     "data": {
      "text/plain": [
       "array([0.50991524, 0.59038986, 0.51001798, 0.49626015, 0.4311306 ,\n",
       "       0.58158381, 0.47845855, 0.4050635 , 0.49684546, 0.44209386,\n",
       "       0.4012649 , 0.51067111, 0.45579074, 0.4038544 , 0.45874551,\n",
       "       1.86137566, 2.18730159, 1.92195767, 1.87116402, 2.14365079])"
      ]
     },
     "execution_count": 206,
     "metadata": {},
     "output_type": "execute_result"
    }
   ],
   "source": [
    "X_new[y_new==0,:].mean(axis=0)"
   ]
  },
  {
   "cell_type": "code",
   "execution_count": 207,
   "metadata": {},
   "outputs": [
    {
     "data": {
      "text/plain": [
       "array([0.58423031, 0.61629643, 0.46219021, 0.52091803, 0.38543816,\n",
       "       0.4361234 , 0.50301084, 0.3803436 , 0.39131709, 0.40991746,\n",
       "       0.46008503, 0.39367746, 0.50290332, 0.5238262 , 0.59520596,\n",
       "       2.64090909, 2.08181818, 2.01363636, 1.93636364, 1.99090909])"
      ]
     },
     "execution_count": 207,
     "metadata": {},
     "output_type": "execute_result"
    }
   ],
   "source": [
    "X[y==1,:].mean(axis=0)"
   ]
  },
  {
   "cell_type": "code",
   "execution_count": 208,
   "metadata": {},
   "outputs": [
    {
     "data": {
      "text/plain": [
       "array([0.51241798, 0.56463272, 0.4959484 , 0.49001128, 0.45593831,\n",
       "       0.53839977, 0.45925621, 0.4340501 , 0.45866682, 0.47784664,\n",
       "       0.43078607, 0.5012189 , 0.49005134, 0.39861251, 0.48524152,\n",
       "       1.93636364, 2.13636364, 2.18636364, 1.92272727, 2.09545455])"
      ]
     },
     "execution_count": 208,
     "metadata": {},
     "output_type": "execute_result"
    }
   ],
   "source": [
    "X_new[y_new==1,:].mean(axis=0)"
   ]
  },
  {
   "cell_type": "code",
   "execution_count": 220,
   "metadata": {},
   "outputs": [
    {
     "data": {
      "image/png": "[encoded data removed]",
      "text/plain": [
       "<Figure size 432x288 with 1 Axes>"
      ]
     },
     "metadata": {
      "needs_background": "light"
     },
     "output_type": "display_data"
    }
   ],
   "source": [
    "import matplotlib.pyplot as plt\n",
    "plt.hist(X[y==0,14], alpha=0.5)\n",
    "plt.hist(X_new[y_new==0,14],alpha=0.5)\n",
    "plt.show()"
   ]
  },
  {
   "cell_type": "code",
   "execution_count": null,
   "metadata": {},
   "outputs": [],
   "source": []
  }
 ],
 "metadata": {
  "kernelspec": {
   "display_name": "Python 3",
   "language": "python",
   "name": "python3"
  },
  "language_info": {
   "codemirror_mode": {
    "name": "ipython",
    "version": 3
   },
   "file_extension": ".py",
   "mimetype": "text/x-python",
   "name": "python",
   "nbconvert_exporter": "python",
   "pygments_lexer": "ipython3",
   "version": "3.7.2"
  }
 },
 "nbformat": 4,
 "nbformat_minor": 2
}
