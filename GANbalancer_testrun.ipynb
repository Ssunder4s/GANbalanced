{
 "cells": [
  {
   "cell_type": "code",
   "execution_count": 1,
   "metadata": {},
   "outputs": [
    {
     "name": "stdout",
     "output_type": "stream",
     "text": [
      "env: MKL_NUM_THREADS=1\n",
      "env: NUMEXPR_NUM_THREADS=1\n",
      "env: OMP_NUM_THREADS=1\n",
      "env: OPENBLAS_NUM_THREADS=1\n",
      "env: VECLIB_MAXIMUM_THREADS=1\n"
     ]
    }
   ],
   "source": [
    "%env MKL_NUM_THREADS=1\n",
    "%env NUMEXPR_NUM_THREADS=1\n",
    "%env OMP_NUM_THREADS=1\n",
    "%env OPENBLAS_NUM_THREADS=1\n",
    "%env VECLIB_MAXIMUM_THREADS=1"
   ]
  },
  {
   "cell_type": "code",
   "execution_count": 2,
   "metadata": {},
   "outputs": [],
   "source": [
    "from wgan.imblearn import GANbalancer"
   ]
  },
  {
   "cell_type": "code",
   "execution_count": 3,
   "metadata": {},
   "outputs": [],
   "source": [
    "import numpy as np\n",
    "import pandas as pd\n",
    "\n",
    "from sklearn.preprocessing import MinMaxScaler, KBinsDiscretizer\n",
    "from sklearn.compose import ColumnTransformer\n",
    "from sklearn.model_selection import StratifiedKFold, GridSearchCV, cross_validate\n",
    "from sklearn.ensemble import RandomForestClassifier\n",
    "from sklearn.linear_model import LogisticRegression\n",
    "from sklearn.metrics import roc_auc_score, make_scorer\n",
    "\n",
    "from imblearn.pipeline import Pipeline\n",
    "from imblearn.over_sampling import SMOTE, SMOTENC, ADASYN\n",
    "\n",
    "from functools import partial\n",
    "from lift.perc_lift_score import perc_lift_score"
   ]
  },
  {
   "cell_type": "code",
   "execution_count": 4,
   "metadata": {},
   "outputs": [],
   "source": [
    "from sklearn.datasets import make_classification\n",
    "X,y = make_classification(n_samples=4000, n_features=20, weights=[0.95,0.05], \n",
    "                          n_informative=20, n_redundant=0, n_clusters_per_class=1)\n",
    "#scaler = MinMaxScaler()\n",
    "#X = scaler.fit_transform(X)\n",
    "#idx_cont = list(range(20))\n",
    "#categorical = None"
   ]
  },
  {
   "cell_type": "code",
   "execution_count": 5,
   "metadata": {},
   "outputs": [],
   "source": [
    "no_cont = 15\n",
    "ct = ColumnTransformer([\n",
    "    (\"scaler\", MinMaxScaler(), slice(0,no_cont)),\n",
    "    (\"discretizer\", KBinsDiscretizer(n_bins=5, encode='ordinal', strategy=\"quantile\"),\n",
    "     slice(no_cont,20))\n",
    "], remainder=\"drop\")\n",
    "X = ct.fit_transform(X)\n",
    "\n",
    "idx_cat = list(range(no_cont,20))\n",
    "idx_cont = list(range(no_cont))\n",
    "categorical = [(i, 5, 3) for i in range(no_cont,20)]"
   ]
  },
  {
   "cell_type": "code",
   "execution_count": 6,
   "metadata": {},
   "outputs": [],
   "source": [
    "gan = GANbalancer(idx_cont=idx_cont, categorical=categorical, sampling_strategy='auto',#{0:0,1:900},\n",
    "                 generator_input=100, generator_layers=[100,100], critic_layers=[100,100], \n",
    "                  n_iter=1000, critic_iterations=5, verbose=1, learning_rate=(10e-3,10e-3),\n",
    "                 auxiliary = True, batch_size=64)"
   ]
  },
  {
   "cell_type": "code",
   "execution_count": 7,
   "metadata": {},
   "outputs": [
    {
     "name": "stderr",
     "output_type": "stream",
     "text": [
      "1005it [01:41, 10.86it/s]                         \n"
     ]
    },
    {
     "data": {
      "text/plain": [
       "GANbalancer(auxiliary=True, batch_size=64,\n",
       "      categorical=[(15, 5, 3), (16, 5, 3), (17, 5, 3), (18, 5, 3), (19, 5, 3)],\n",
       "      critic_iterations=5, critic_layers=[100, 100], generator_input=100,\n",
       "      generator_layers=[100, 100],\n",
       "      idx_cont=[0, 1, 2, 3, 4, 5, 6, 7, 8, 9, 10, 11, 12, 13, 14],\n",
       "      learning_rate=(0.01, 0.01), n_iter=1000, random_state=None,\n",
       "      sampling_strategy='auto', verbose=1)"
      ]
     },
     "execution_count": 7,
     "metadata": {},
     "output_type": "execute_result"
    }
   ],
   "source": [
    "gan._fit(X,y)"
   ]
  },
  {
   "cell_type": "code",
   "execution_count": 71,
   "metadata": {},
   "outputs": [],
   "source": [
    "#X_new, y_new = gan.fit_resample(X,y)\n",
    "gan.sampling_strategy_ = {0:3700, 1:300}\n",
    "X_new, y_new = gan._sample(X,y)"
   ]
  },
  {
   "cell_type": "code",
   "execution_count": 72,
   "metadata": {},
   "outputs": [
    {
     "data": {
      "text/plain": [
       "1005"
      ]
     },
     "execution_count": 72,
     "metadata": {},
     "output_type": "execute_result"
    }
   ],
   "source": [
    "gan.generator.training_iterations"
   ]
  },
  {
   "cell_type": "code",
   "execution_count": 73,
   "metadata": {},
   "outputs": [
    {
     "data": {
      "text/plain": [
       "(4000, 20)"
      ]
     },
     "execution_count": 73,
     "metadata": {},
     "output_type": "execute_result"
    }
   ],
   "source": [
    "X.shape"
   ]
  },
  {
   "cell_type": "code",
   "execution_count": 74,
   "metadata": {},
   "outputs": [
    {
     "data": {
      "text/plain": [
       "225"
      ]
     },
     "execution_count": 74,
     "metadata": {},
     "output_type": "execute_result"
    }
   ],
   "source": [
    "np.sum(y)"
   ]
  },
  {
   "cell_type": "code",
   "execution_count": 75,
   "metadata": {},
   "outputs": [
    {
     "data": {
      "text/plain": [
       "(4000, 20)"
      ]
     },
     "execution_count": 75,
     "metadata": {},
     "output_type": "execute_result"
    }
   ],
   "source": [
    "X_new.shape"
   ]
  },
  {
   "cell_type": "code",
   "execution_count": 76,
   "metadata": {},
   "outputs": [
    {
     "data": {
      "text/plain": [
       "300.0"
      ]
     },
     "execution_count": 76,
     "metadata": {},
     "output_type": "execute_result"
    }
   ],
   "source": [
    "np.sum(y_new)"
   ]
  },
  {
   "cell_type": "code",
   "execution_count": 77,
   "metadata": {},
   "outputs": [],
   "source": [
    "from sklearn.linear_model import LogisticRegression"
   ]
  },
  {
   "cell_type": "code",
   "execution_count": 78,
   "metadata": {},
   "outputs": [
    {
     "name": "stderr",
     "output_type": "stream",
     "text": [
      "/home/RDC/hauptjoh.hub/miniconda3/envs/deeplearning/lib/python3.7/site-packages/sklearn/linear_model/logistic.py:433: FutureWarning: Default solver will be changed to 'lbfgs' in 0.22. Specify a solver to silence this warning.\n",
      "  FutureWarning)\n",
      "/home/RDC/hauptjoh.hub/miniconda3/envs/deeplearning/lib/python3.7/site-packages/sklearn/linear_model/logistic.py:433: FutureWarning: Default solver will be changed to 'lbfgs' in 0.22. Specify a solver to silence this warning.\n",
      "  FutureWarning)\n"
     ]
    }
   ],
   "source": [
    "logit1 = LogisticRegression().fit(X,y)\n",
    "logit2 = LogisticRegression().fit(X_new, y_new)"
   ]
  },
  {
   "cell_type": "code",
   "execution_count": 79,
   "metadata": {},
   "outputs": [
    {
     "data": {
      "text/plain": [
       "(0.9047052244297277, 0.6560824135393671)"
      ]
     },
     "execution_count": 79,
     "metadata": {},
     "output_type": "execute_result"
    }
   ],
   "source": [
    "(roc_auc_score(y, logit1.predict_proba(X)[:,1]),\n",
    " roc_auc_score(y, logit2.predict_proba(X)[:,1]))"
   ]
  },
  {
   "cell_type": "code",
   "execution_count": 80,
   "metadata": {},
   "outputs": [
    {
     "data": {
      "text/plain": [
       "array([0.48814669, 0.47167715, 0.47867935, 0.46433857, 0.40179037,\n",
       "       0.43212374, 0.59152052, 0.48777534, 0.51407734, 0.4704624 ,\n",
       "       0.51537303, 0.50468803, 0.53098024, 0.46040266, 0.50266067,\n",
       "       2.00476821, 2.00609272, 2.04900662, 1.95523179, 2.05854305])"
      ]
     },
     "execution_count": 80,
     "metadata": {},
     "output_type": "execute_result"
    }
   ],
   "source": [
    "X[y==0,:].mean(axis=0)"
   ]
  },
  {
   "cell_type": "code",
   "execution_count": 81,
   "metadata": {},
   "outputs": [
    {
     "data": {
      "text/plain": [
       "array([0.48111316, 0.24981421, 0.64910962, 0.42451225, 0.12373122,\n",
       "       0.51699679, 0.63559045, 0.3238608 , 0.67472431, 0.71067824,\n",
       "       0.47913787, 0.66105007, 0.46197167, 0.37826555, 0.22508509,\n",
       "       2.04297297, 2.27324324, 2.31594595, 1.3027027 , 1.94513514])"
      ]
     },
     "execution_count": 81,
     "metadata": {},
     "output_type": "execute_result"
    }
   ],
   "source": [
    "X_new[y_new==0,:].mean(axis=0)"
   ]
  },
  {
   "cell_type": "code",
   "execution_count": 82,
   "metadata": {},
   "outputs": [
    {
     "data": {
      "text/plain": [
       "array([0.56178969, 0.37976846, 0.48433599, 0.54522324, 0.40627856,\n",
       "       0.41915101, 0.51795587, 0.48617095, 0.51663445, 0.56141761,\n",
       "       0.43324732, 0.50096383, 0.60603378, 0.45444044, 0.50022055,\n",
       "       1.92      , 1.89777778, 1.17777778, 2.75111111, 1.01777778])"
      ]
     },
     "execution_count": 82,
     "metadata": {},
     "output_type": "execute_result"
    }
   ],
   "source": [
    "X[y==1,:].mean(axis=0)"
   ]
  },
  {
   "cell_type": "code",
   "execution_count": 83,
   "metadata": {},
   "outputs": [
    {
     "data": {
      "text/plain": [
       "array([0.10504864, 0.40771659, 0.27173119, 0.17295537, 0.29136937,\n",
       "       0.50532746, 0.17940709, 0.69810926, 0.66319272, 0.92253442,\n",
       "       0.77717959, 0.39944326, 0.87913913, 0.86564982, 0.23900749,\n",
       "       2.11333333, 2.30666667, 1.15      , 2.78      , 0.53      ])"
      ]
     },
     "execution_count": 83,
     "metadata": {},
     "output_type": "execute_result"
    }
   ],
   "source": [
    "X_new[y_new==1,:].mean(axis=0)"
   ]
  },
  {
   "cell_type": "code",
   "execution_count": 85,
   "metadata": {},
   "outputs": [
    {
     "data": {
      "image/png": "[encoded data removed]",
      "text/plain": [
       "<Figure size 432x288 with 1 Axes>"
      ]
     },
     "metadata": {
      "needs_background": "light"
     },
     "output_type": "display_data"
    }
   ],
   "source": [
    "import matplotlib.pyplot as plt\n",
    "plt.hist(X_new[y_new==0,0],alpha=0.3)\n",
    "plt.hist(X[y==0,0], alpha=0.3)\n",
    "plt.show()"
   ]
  },
  {
   "cell_type": "code",
   "execution_count": null,
   "metadata": {},
   "outputs": [],
   "source": []
  }
 ],
 "metadata": {
  "kernelspec": {
   "display_name": "Python 3",
   "language": "python",
   "name": "python3"
  },
  "language_info": {
   "codemirror_mode": {
    "name": "ipython",
    "version": 3
   },
   "file_extension": ".py",
   "mimetype": "text/x-python",
   "name": "python",
   "nbconvert_exporter": "python",
   "pygments_lexer": "ipython3",
   "version": "3.7.2"
  }
 },
 "nbformat": 4,
 "nbformat_minor": 2
}
