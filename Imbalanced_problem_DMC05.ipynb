{
 "cells": [
  {
   "cell_type": "code",
   "execution_count": 44,
   "metadata": {},
   "outputs": [],
   "source": [
    "import sys"
   ]
  },
  {
   "cell_type": "code",
   "execution_count": 45,
   "metadata": {},
   "outputs": [],
   "source": [
    "sys.path.append(\"/Volumes/hauptjoh.hub/utils\")"
   ]
  },
  {
   "cell_type": "code",
   "execution_count": 46,
   "metadata": {},
   "outputs": [],
   "source": [
    "import data_loader\n",
    "import numpy as np\n",
    "from sklearn.linear_model import LogisticRegression\n",
    "from imblearn.pipeline import Pipeline\n",
    "from sklearn.compose import ColumnTransformer\n",
    "from sklearn.preprocessing import StandardScaler, MinMaxScaler, OneHotEncoder\n",
    "from sklearn.model_selection import cross_validate, RepeatedStratifiedKFold\n",
    "from sklearn.metrics import roc_auc_score, make_scorer\n",
    "\n",
    "from sklearn.datasets import make_classification\n",
    "\n",
    "import matplotlib.pyplot as plt\n",
    "import seaborn as sns"
   ]
  },
  {
   "cell_type": "markdown",
   "metadata": {},
   "source": [
    "Load data of DMC 20015 and clean it"
   ]
  },
  {
   "cell_type": "code",
   "execution_count": 47,
   "metadata": {},
   "outputs": [],
   "source": [
    "X,y = data_loader.load_dmc05(\"/Volumes/hauptjoh.hub/data\")"
   ]
  },
  {
   "cell_type": "markdown",
   "metadata": {},
   "source": [
    "Collect the indices of continuous and categorical columns for preprocessing through sklearn's ColumnTransformer. "
   ]
  },
  {
   "cell_type": "code",
   "execution_count": 48,
   "metadata": {},
   "outputs": [],
   "source": [
    "# Initialize index lists\n",
    "idx_cont = None\n",
    "idx_cat  = None\n",
    "\n",
    "if idx_cat is None:\n",
    "    idx_cat = list(np.where(X.dtypes=='category')[0])\n",
    "    idx_cat = [int(x) for x in idx_cat]\n",
    "\n",
    "if idx_cont is None:\n",
    "    idx_cont = [x for x in range(X.shape[1]) if x not in idx_cat]\n",
    "    idx_cont = [int(x) for x in idx_cont]\n",
    "\n",
    "# Initialize embedding tuples\n",
    "categorical = None\n",
    "if idx_cat is not None:\n",
    "    categorical = [(i,\n",
    "                    len(X.iloc[:,i].cat.categories),\n",
    "                    int(min(15., np.ceil(0.5*len(X.iloc[:,i].cat.categories))))\n",
    "                   )\n",
    "                    for i in idx_cat]\n",
    "\n",
    "\n",
    "# Make sure categorical variables are encoded from 0\n",
    "if np.any([idx>min(idx_cat) for idx in idx_cont]):\n",
    "    raise ValueError(\"Variables need to be ordered [cont, cat]\")\n",
    "\n",
    "\n",
    "X=X.to_numpy(dtype=np.float32)\n",
    "y=y.to_numpy(dtype=np.int32)"
   ]
  },
  {
   "cell_type": "code",
   "execution_count": 49,
   "metadata": {},
   "outputs": [],
   "source": [
    "X = X[np.argsort(y),:][-12051:-51]"
   ]
  },
  {
   "cell_type": "code",
   "execution_count": 50,
   "metadata": {},
   "outputs": [],
   "source": [
    "y = y[np.argsort(y)][-12051:-51]"
   ]
  },
  {
   "cell_type": "code",
   "execution_count": 51,
   "metadata": {},
   "outputs": [
    {
     "data": {
      "text/plain": [
       "0.14125"
      ]
     },
     "execution_count": 51,
     "metadata": {},
     "output_type": "execute_result"
    }
   ],
   "source": [
    "np.mean(y)"
   ]
  },
  {
   "cell_type": "markdown",
   "metadata": {},
   "source": [
    "Data Dimensionality"
   ]
  },
  {
   "cell_type": "code",
   "execution_count": 52,
   "metadata": {},
   "outputs": [
    {
     "data": {
      "text/plain": [
       "(12000, 32)"
      ]
     },
     "execution_count": 52,
     "metadata": {},
     "output_type": "execute_result"
    }
   ],
   "source": [
    "X.shape"
   ]
  },
  {
   "cell_type": "code",
   "execution_count": 53,
   "metadata": {},
   "outputs": [
    {
     "data": {
      "text/plain": [
       "5"
      ]
     },
     "execution_count": 53,
     "metadata": {},
     "output_type": "execute_result"
    }
   ],
   "source": [
    "len(idx_cont)"
   ]
  },
  {
   "cell_type": "code",
   "execution_count": 54,
   "metadata": {},
   "outputs": [
    {
     "data": {
      "text/plain": [
       "27"
      ]
     },
     "execution_count": 54,
     "metadata": {},
     "output_type": "execute_result"
    }
   ],
   "source": [
    "len(categorical)"
   ]
  },
  {
   "cell_type": "code",
   "execution_count": 55,
   "metadata": {},
   "outputs": [
    {
     "data": {
      "text/plain": [
       "651"
      ]
     },
     "execution_count": 55,
     "metadata": {},
     "output_type": "execute_result"
    }
   ],
   "source": [
    "sum([i for _,i,_ in categorical])"
   ]
  },
  {
   "cell_type": "markdown",
   "metadata": {},
   "source": [
    "## Select appropriate model pipeline"
   ]
  },
  {
   "cell_type": "code",
   "execution_count": 81,
   "metadata": {},
   "outputs": [],
   "source": [
    "preproc = StandardScaler()\n",
    "model = LogisticRegression(C=25, solver='lbfgs', max_iter=1000)\n",
    "\n",
    "pipeline = Pipeline(steps=[\n",
    "    ('preproc', preproc),\n",
    "    ('classifier', model)\n",
    "  ])\n"
   ]
  },
  {
   "cell_type": "code",
   "execution_count": 76,
   "metadata": {},
   "outputs": [],
   "source": [
    "preproc_sampler = ColumnTransformer([\n",
    "        ('scaler', MinMaxScaler(), idx_cont),\n",
    "        ('pass',   'passthrough',  idx_cat)\n",
    "    ])\n",
    "\n",
    "preproc_clf = ColumnTransformer([\n",
    "    ('pass', 'passthrough', idx_cont),\n",
    "    ('ohe',   OneHotEncoder(categories='auto', handle_unknown='ignore'),  idx_cat)\n",
    "])\n",
    "\n",
    "\n",
    "model = LogisticRegression(C=100, solver='saga', max_iter=1000)\n",
    "    \n",
    "pipeline = Pipeline(steps=[\n",
    "    ('preproc_sampler', preproc_sampler),\n",
    "    ('preproc_clf', preproc_clf),\n",
    "    ('classifier', model)\n",
    "  ])\n"
   ]
  },
  {
   "cell_type": "markdown",
   "metadata": {},
   "source": [
    "## Specify imbalance ratios to be tested"
   ]
  },
  {
   "cell_type": "code",
   "execution_count": 83,
   "metadata": {},
   "outputs": [],
   "source": [
    "#imb_ratio = [1,2,3,4,5,10,20,50]\n",
    "imb_ratio = [(0.5+e, round(0.5-e, 3) ) for e in [0,0.1,0.2,0.3,0.40,0.450,0.49,0.499] ]\n",
    "ratio_minority = {}\n",
    "perf = {}"
   ]
  },
  {
   "cell_type": "code",
   "execution_count": 84,
   "metadata": {},
   "outputs": [
    {
     "data": {
      "text/plain": [
       "[(0.5, 0.5),\n",
       " (0.6, 0.4),\n",
       " (0.7, 0.3),\n",
       " (0.8, 0.2),\n",
       " (0.9, 0.1),\n",
       " (0.95, 0.05),\n",
       " (0.99, 0.01),\n",
       " (0.999, 0.001)]"
      ]
     },
     "execution_count": 84,
     "metadata": {},
     "output_type": "execute_result"
    }
   ],
   "source": [
    "imb_ratio"
   ]
  },
  {
   "cell_type": "markdown",
   "metadata": {},
   "source": [
    "## Effect of imbalance I: Constant no. of majority, increasing sparcity of minority cases"
   ]
  },
  {
   "cell_type": "code",
   "execution_count": 129,
   "metadata": {},
   "outputs": [],
   "source": [
    "N_SAMPLES = int(1e4)\n",
    "N_FEATURES = 20"
   ]
  },
  {
   "cell_type": "code",
   "execution_count": 130,
   "metadata": {},
   "outputs": [
    {
     "name": "stderr",
     "output_type": "stream",
     "text": [
      "[Parallel(n_jobs=3)]: Using backend LokyBackend with 3 concurrent workers.\n",
      "[Parallel(n_jobs=3)]: Done  40 out of  40 | elapsed:    1.8s finished\n",
      "[Parallel(n_jobs=3)]: Using backend LokyBackend with 3 concurrent workers.\n",
      "[Parallel(n_jobs=3)]: Done  40 out of  40 | elapsed:    1.8s finished\n",
      "[Parallel(n_jobs=3)]: Using backend LokyBackend with 3 concurrent workers.\n",
      "[Parallel(n_jobs=3)]: Done  40 out of  40 | elapsed:    1.8s finished\n",
      "[Parallel(n_jobs=3)]: Using backend LokyBackend with 3 concurrent workers.\n",
      "[Parallel(n_jobs=3)]: Done  40 out of  40 | elapsed:    1.9s finished\n",
      "[Parallel(n_jobs=3)]: Using backend LokyBackend with 3 concurrent workers.\n",
      "[Parallel(n_jobs=3)]: Done  40 out of  40 | elapsed:    1.9s finished\n",
      "[Parallel(n_jobs=3)]: Using backend LokyBackend with 3 concurrent workers.\n",
      "[Parallel(n_jobs=3)]: Done  40 out of  40 | elapsed:    1.9s finished\n",
      "[Parallel(n_jobs=3)]: Using backend LokyBackend with 3 concurrent workers.\n",
      "[Parallel(n_jobs=3)]: Done  40 out of  40 | elapsed:    1.9s finished\n",
      "[Parallel(n_jobs=3)]: Using backend LokyBackend with 3 concurrent workers.\n",
      "[Parallel(n_jobs=3)]: Done  40 out of  40 | elapsed:    1.8s finished\n"
     ]
    }
   ],
   "source": [
    "for ratio in imb_ratio:\n",
    "    X_temp, y_temp  = make_classification(n_samples=N_SAMPLES, n_features=N_FEATURES, \n",
    "                                          n_informative=N_FEATURES//2, \n",
    "                                          n_clusters_per_class=4, class_sep=1,\n",
    "                                 weights=ratio, random_state=123) \n",
    "    ratio_minority[ratio] = y_temp.mean()\n",
    "    \n",
    "    perf[ratio] =  cross_validate(pipeline,X=X_temp,y=y_temp,\n",
    "                            cv=RepeatedStratifiedKFold(n_repeats = 20, n_splits=2, random_state=123), \n",
    "                            scoring=make_scorer(roc_auc_score, needs_proba=True), \n",
    "                            verbose=1, error_score='raise', return_train_score=False,\n",
    "                                 n_jobs=3)\n"
   ]
  },
  {
   "cell_type": "code",
   "execution_count": 131,
   "metadata": {},
   "outputs": [
    {
     "name": "stdout",
     "output_type": "stream",
     "text": [
      "(0.5, 0.5) 0.8751155284186398 0.0031909694941623283\n",
      "(0.6, 0.4) 0.8742740478210951 0.002979240393098235\n",
      "(0.7, 0.3) 0.8705966955966218 0.0030016341736739255\n",
      "(0.8, 0.2) 0.8679312024562595 0.005111432346350818\n",
      "(0.9, 0.1) 0.8524571416333394 0.005615519864538617\n",
      "(0.95, 0.05) 0.8234912100923557 0.01193509408814945\n",
      "(0.99, 0.01) 0.7057654107014253 0.026769761426148526\n",
      "(0.999, 0.001) 0.5012225180077051 0.030655915301967866\n"
     ]
    }
   ],
   "source": [
    "for r,p in perf.items():\n",
    "    print(r,p[\"test_score\"].mean(), p[\"test_score\"].std())\n",
    "    \n",
    "perf_mean_sd = np.array([(p[\"test_score\"].mean(), p[\"test_score\"].std()) for r,p in perf.items()])"
   ]
  },
  {
   "cell_type": "code",
   "execution_count": 132,
   "metadata": {},
   "outputs": [
    {
     "name": "stdout",
     "output_type": "stream",
     "text": [
      "(0.5, 0.5) 0.5009\n",
      "(0.6, 0.4) 0.402\n",
      "(0.7, 0.3) 0.3033\n",
      "(0.8, 0.2) 0.2041\n",
      "(0.9, 0.1) 0.1049\n",
      "(0.95, 0.05) 0.0551\n",
      "(0.99, 0.01) 0.0154\n",
      "(0.999, 0.001) 0.0063\n"
     ]
    }
   ],
   "source": [
    "for r,p in ratio_minority.items():\n",
    "    print(r,p)"
   ]
  },
  {
   "cell_type": "code",
   "execution_count": 133,
   "metadata": {},
   "outputs": [
    {
     "data": {
      "text/plain": [
       "<ErrorbarContainer object of 3 artists>"
      ]
     },
     "execution_count": 133,
     "metadata": {},
     "output_type": "execute_result"
    },
    {
     "data": {
      "image/png": "[encoded data removed]",
      "text/plain": [
       "<Figure size 432x288 with 1 Axes>"
      ]
     },
     "metadata": {
      "needs_background": "light"
     },
     "output_type": "display_data"
    }
   ],
   "source": [
    "plt.errorbar([str(x)+'/'+str(y) for x,y in imb_ratio], \n",
    "             perf_mean_sd[:,0], yerr=perf_mean_sd[:,1], fmt='o', ecolor='orangered',\n",
    "            color='steelblue', capsize=2)"
   ]
  },
  {
   "cell_type": "markdown",
   "metadata": {},
   "source": [
    "## Effect of imbalance I: Increasing no. of majority cases, constant no. of minority cases"
   ]
  },
  {
   "cell_type": "code",
   "execution_count": 134,
   "metadata": {},
   "outputs": [],
   "source": [
    "N_SAMPLES = int(1e4) # const. Minority cases: N_SAMPLES/2\n",
    "N_FEATURES = 20"
   ]
  },
  {
   "cell_type": "code",
   "execution_count": 135,
   "metadata": {},
   "outputs": [
    {
     "name": "stderr",
     "output_type": "stream",
     "text": [
      "[Parallel(n_jobs=3)]: Using backend LokyBackend with 3 concurrent workers.\n",
      "[Parallel(n_jobs=3)]: Done  82 tasks      | elapsed:    3.9s\n",
      "[Parallel(n_jobs=3)]: Done 200 out of 200 | elapsed:    9.1s finished\n",
      "[Parallel(n_jobs=3)]: Using backend LokyBackend with 3 concurrent workers.\n",
      "[Parallel(n_jobs=3)]: Done  82 tasks      | elapsed:    4.1s\n",
      "[Parallel(n_jobs=3)]: Done 200 out of 200 | elapsed:    9.3s finished\n",
      "[Parallel(n_jobs=3)]: Using backend LokyBackend with 3 concurrent workers.\n",
      "[Parallel(n_jobs=3)]: Done  44 tasks      | elapsed:    2.5s\n",
      "[Parallel(n_jobs=3)]: Done 194 tasks      | elapsed:    9.9s\n",
      "[Parallel(n_jobs=3)]: Done 200 out of 200 | elapsed:   10.2s finished\n",
      "[Parallel(n_jobs=3)]: Using backend LokyBackend with 3 concurrent workers.\n",
      "[Parallel(n_jobs=3)]: Done  81 tasks      | elapsed:    4.1s\n",
      "[Parallel(n_jobs=3)]: Done 195 out of 200 | elapsed:    9.8s remaining:    0.3s\n",
      "[Parallel(n_jobs=3)]: Done 200 out of 200 | elapsed:   10.1s finished\n",
      "[Parallel(n_jobs=3)]: Using backend LokyBackend with 3 concurrent workers.\n",
      "[Parallel(n_jobs=3)]: Done  44 tasks      | elapsed:    3.3s\n",
      "[Parallel(n_jobs=3)]: Done 194 tasks      | elapsed:   13.9s\n",
      "[Parallel(n_jobs=3)]: Done 200 out of 200 | elapsed:   14.3s finished\n",
      "[Parallel(n_jobs=3)]: Using backend LokyBackend with 3 concurrent workers.\n",
      "[Parallel(n_jobs=3)]: Done  44 tasks      | elapsed:    6.0s\n",
      "[Parallel(n_jobs=3)]: Done 194 tasks      | elapsed:   25.8s\n",
      "[Parallel(n_jobs=3)]: Done 200 out of 200 | elapsed:   26.5s finished\n",
      "[Parallel(n_jobs=3)]: Using backend LokyBackend with 3 concurrent workers.\n",
      "[Parallel(n_jobs=3)]: Done  44 tasks      | elapsed:   26.8s\n",
      "[Parallel(n_jobs=3)]: Done 194 tasks      | elapsed:  2.0min\n",
      "[Parallel(n_jobs=3)]: Done 200 out of 200 | elapsed:  2.1min finished\n",
      "[Parallel(n_jobs=3)]: Using backend LokyBackend with 3 concurrent workers.\n",
      "[Parallel(n_jobs=3)]: Done  44 tasks      | elapsed:  5.9min\n",
      "[Parallel(n_jobs=3)]: Done 194 tasks      | elapsed: 24.1min\n",
      "[Parallel(n_jobs=3)]: Done 200 out of 200 | elapsed: 24.8min finished\n"
     ]
    }
   ],
   "source": [
    "for ratio in imb_ratio:\n",
    "    X_temp, y_temp  = make_classification(n_samples=int(N_SAMPLES/(2*ratio[1])), n_features=N_FEATURES, \n",
    "                                          n_informative=N_FEATURES//2, \n",
    "                                          n_clusters_per_class=4, class_sep=1,\n",
    "                                 weights=ratio, random_state=123) \n",
    "    ratio_minority[ratio] = y_temp.mean()\n",
    "    \n",
    "    perf[ratio] =  cross_validate(pipeline,X=X_temp,y=y_temp,\n",
    "                            cv=RepeatedStratifiedKFold(n_repeats = 100, n_splits=2, random_state=123), \n",
    "                            scoring=make_scorer(roc_auc_score, needs_proba=True), \n",
    "                            verbose=1, error_score='raise', return_train_score=False,\n",
    "                                 n_jobs=3)\n"
   ]
  },
  {
   "cell_type": "code",
   "execution_count": 125,
   "metadata": {},
   "outputs": [
    {
     "name": "stdout",
     "output_type": "stream",
     "text": [
      "(0.5, 0.5) 0.875111386244093 0.003176053094366765\n",
      "(0.6, 0.4) 0.8741733498061532 0.0034053301237005644\n",
      "(0.7, 0.3) 0.8701544189219856 0.0036704801959633287\n",
      "(0.8, 0.2) 0.8681966943859551 0.004821401861788071\n",
      "(0.9, 0.1) 0.8522402200909005 0.006804896215540565\n",
      "(0.95, 0.05) 0.823426074915425 0.010951731438031726\n",
      "(0.99, 0.01) 0.7034597080757959 0.027396669198679054\n",
      "(0.999, 0.001) 0.49826471626160007 0.0373839763825909\n"
     ]
    }
   ],
   "source": [
    "for r,p in perf.items():\n",
    "    print(r,p[\"test_score\"].mean(), p[\"test_score\"].std())\n",
    "    \n",
    "perf_mean_sd = np.array([(p[\"test_score\"].mean(), p[\"test_score\"].std()) for r,p in perf.items()])"
   ]
  },
  {
   "cell_type": "code",
   "execution_count": 126,
   "metadata": {},
   "outputs": [
    {
     "name": "stdout",
     "output_type": "stream",
     "text": [
      "(0.5, 0.5) 0.5009\n",
      "(0.6, 0.4) 0.402\n",
      "(0.7, 0.3) 0.3033\n",
      "(0.8, 0.2) 0.2041\n",
      "(0.9, 0.1) 0.1049\n",
      "(0.95, 0.05) 0.0551\n",
      "(0.99, 0.01) 0.0154\n",
      "(0.999, 0.001) 0.0063\n"
     ]
    }
   ],
   "source": [
    "for r,p in ratio_minority.items():\n",
    "    print(r,p)"
   ]
  },
  {
   "cell_type": "code",
   "execution_count": 127,
   "metadata": {},
   "outputs": [
    {
     "data": {
      "text/plain": [
       "<ErrorbarContainer object of 3 artists>"
      ]
     },
     "execution_count": 127,
     "metadata": {},
     "output_type": "execute_result"
    },
    {
     "data": {
      "image/png": "[encoded data removed]",
      "text/plain": [
       "<Figure size 432x288 with 1 Axes>"
      ]
     },
     "metadata": {
      "needs_background": "light"
     },
     "output_type": "display_data"
    }
   ],
   "source": [
    "plt.errorbar([str(x)+'/'+str(y) for x,y in imb_ratio], \n",
    "             perf_mean_sd[:,0], yerr=perf_mean_sd[:,1], fmt='o', ecolor='orangered',\n",
    "            color='steelblue', capsize=2)"
   ]
  },
  {
   "cell_type": "markdown",
   "metadata": {},
   "source": [
    "## Old"
   ]
  },
  {
   "cell_type": "code",
   "execution_count": null,
   "metadata": {},
   "outputs": [],
   "source": [
    "imb_ratio = [1,2,3,4,5,10,20,50]\n",
    "ratio_minority = {}\n",
    "perf = {}"
   ]
  },
  {
   "cell_type": "code",
   "execution_count": null,
   "metadata": {},
   "outputs": [],
   "source": [
    "for ratio in imb_ratio:\n",
    "    X_temp = X[:y.sum()+int(y.sum()/ratio)]\n",
    "    y_temp = y[:y.sum()+int(y.sum()/ratio)]\n",
    "    ratio_minority[ratio] = y_temp.mean()\n",
    "    \n",
    "    perf[ratio] =  cross_validate(pipeline,X=X_temp,y=y_temp,\n",
    "                            cv=StratifiedKFold(n_splits=10, shuffle=True, random_state=123), \n",
    "                            scoring=make_scorer(roc_auc_score, needs_proba=True), \n",
    "                            verbose=1, error_score='raise', return_train_score=False)\n"
   ]
  },
  {
   "cell_type": "code",
   "execution_count": null,
   "metadata": {},
   "outputs": [],
   "source": [
    "import matplotlib.pyplot as plt"
   ]
  },
  {
   "cell_type": "code",
   "execution_count": null,
   "metadata": {},
   "outputs": [],
   "source": [
    "for r,p in perf.items():\n",
    "    print(r,p[\"test_score\"])"
   ]
  },
  {
   "cell_type": "code",
   "execution_count": null,
   "metadata": {},
   "outputs": [],
   "source": [
    "for r,p in perf.items():\n",
    "    print(r,p[\"test_score\"].mean(), p[\"test_score\"].std())"
   ]
  },
  {
   "cell_type": "code",
   "execution_count": null,
   "metadata": {},
   "outputs": [],
   "source": [
    "for r,p in ratio_minority.items():\n",
    "    print(r,p)"
   ]
  }
 ],
 "metadata": {
  "kernelspec": {
   "display_name": "Python [deeplearning]",
   "language": "python",
   "name": "Python [deeplearning]"
  },
  "language_info": {
   "codemirror_mode": {
    "name": "ipython",
    "version": 3
   },
   "file_extension": ".py",
   "mimetype": "text/x-python",
   "name": "python",
   "nbconvert_exporter": "python",
   "pygments_lexer": "ipython3",
   "version": "3.6.7"
  }
 },
 "nbformat": 4,
 "nbformat_minor": 2
}
