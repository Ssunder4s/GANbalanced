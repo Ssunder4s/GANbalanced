{
 "cells": [
  {
   "cell_type": "code",
   "execution_count": 247,
   "metadata": {},
   "outputs": [],
   "source": [
    "import numpy as np\n",
    "import scipy.stats as sp\n",
    "import pandas as pd\n",
    "\n",
    "def create_GAN_data(N, class_ratio=0.5, random_state=None):\n",
    "    if random_state is not None: np.random.seed(random_state)\n",
    "    # Group indicator\n",
    "    #group = sp.binom.rvs(p=0.25, n=1, size=N)\n",
    "    group = np.concatenate([np.zeros([int(N*(1-class_ratio))]), np.ones([int(N*class_ratio)])])\n",
    "\n",
    "    # Continuous variables\n",
    "    x0 = sp.poisson.rvs(mu=np.where(group==1,1.,2.))\n",
    "    x1 = sp.norm.rvs(loc=np.where(group==1,-2,2),\n",
    "                     scale=1)\n",
    "    x2 = sp.norm.rvs(loc=x1,\n",
    "                     scale=1)\n",
    "    x3 = (x0**2 + x1**2)\n",
    "    x456 = sp.multivariate_normal.rvs(mean=[0,0,0], cov= np.stack(([1,0.8,0.2], [0.8,1.,0.], [0.2,0.,1.]),axis=0), size=N)\n",
    "\n",
    "    # Discrete variables\n",
    "    # Binary\n",
    "    x7 = sp.binom.rvs(p=np.where(group==1,0.6,0.3),n=1)\n",
    "    # Three class\n",
    "    x890_0 = sp.multinomial.rvs(p=[0.7,0.2,0.1],n=1,size=N)\n",
    "    x890_1 = sp.multinomial.rvs(p=[0.2,0.7,0.1],n=1,size=N)\n",
    "    x890 = np.zeros([N,3])\n",
    "    for i in range(N):\n",
    "        if group[i]==1:\n",
    "            x890[i,] = x890_1[i,]\n",
    "        else:\n",
    "            x890[i,] = x890_0[i,]\n",
    "\n",
    "\n",
    "    data = pd.DataFrame(np.column_stack([x0,x1,x2,x3,x456,group,x7,x890]))\n",
    "    data.rename({7:\"group\"}, axis=\"columns\", inplace=True)\n",
    "    return data\n"
   ]
  },
  {
   "cell_type": "code",
   "execution_count": 246,
   "metadata": {},
   "outputs": [],
   "source": [
    "create_GAN_data(40000, random_state=123).to_csv(\"../simulation_data/simulation.csv\", index=False)\n",
    "create_GAN_data(40000, random_state=124).to_csv(\"../simulation_data/simulation_val.csv\", index=False)"
   ]
  }
 ],
 "metadata": {
  "kernelspec": {
   "display_name": "Python [edward]",
   "language": "python",
   "name": "Python [edward]"
  },
  "language_info": {
   "codemirror_mode": {
    "name": "ipython",
    "version": 3
   },
   "file_extension": ".py",
   "mimetype": "text/x-python",
   "name": "python",
   "nbconvert_exporter": "python",
   "pygments_lexer": "ipython3",
   "version": "3.6.4"
  }
 },
 "nbformat": 4,
 "nbformat_minor": 2
}
