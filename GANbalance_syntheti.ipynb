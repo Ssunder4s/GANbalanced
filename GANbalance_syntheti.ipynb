{
 "cells": [
  {
   "cell_type": "code",
   "execution_count": 122,
   "metadata": {},
   "outputs": [],
   "source": [
    "import pandas as pd\n",
    "import numpy as np\n",
    "import torch.nn.functional as F\n",
    "import torch\n",
    "from torch.utils.data import DataLoader\n",
    "from torch.optim import SGD, Adam\n",
    "\n",
    "from sklearn.tree import DecisionTreeClassifier\n",
    "from sklearn.model_selection import train_test_split\n",
    "from sklearn.metrics import roc_auc_score\n",
    "\n",
    "import matplotlib.pyplot as plt"
   ]
  },
  {
   "cell_type": "code",
   "execution_count": 384,
   "metadata": {},
   "outputs": [],
   "source": [
    "from tableGAN.utils import create_GAN_data, TabularDataset\n",
    "from tableGAN.tableGAN import make_noise, CriticNet, WGAN, GeneratorNet"
   ]
  },
  {
   "cell_type": "code",
   "execution_count": 3,
   "metadata": {},
   "outputs": [],
   "source": [
    "balance_ratio = [0.01, 0.05, 0.1, 0.2, 0.3, 0.4 ,0.5]"
   ]
  },
  {
   "cell_type": "code",
   "execution_count": 70,
   "metadata": {},
   "outputs": [
    {
     "name": "stdout",
     "output_type": "stream",
     "text": [
      "0.9087082950719315\n",
      "0.9573365231259968\n",
      "0.9727272727272728\n",
      "0.9779356060606061\n",
      "0.9812049062049062\n",
      "0.9815656565656565\n",
      "0.9827272727272728\n"
     ]
    }
   ],
   "source": [
    "for ratio in balance_ratio:\n",
    "    real = create_GAN_data(20000,class_ratio=ratio,random_state=123)\n",
    "    X = real.drop(\"group\", axis=1)\n",
    "    y = real.group.values\n",
    "\n",
    "    X_train, X_test, y_train, y_test = train_test_split(X, y, test_size=0.33, random_state=123, stratify=y)\n",
    "\n",
    "    clf = DecisionTreeClassifier(min_samples_leaf=50, random_state=123)\n",
    "    clf.fit(X_train, y_train)\n",
    "    pred_rf = clf.predict(X_test)\n",
    "    print(roc_auc_score(y_test, pred_rf))"
   ]
  },
  {
   "cell_type": "markdown",
   "metadata": {},
   "source": [
    "# Extremely unbalanced data"
   ]
  },
  {
   "cell_type": "code",
   "execution_count": 301,
   "metadata": {},
   "outputs": [],
   "source": [
    "training = create_GAN_data(20000,class_ratio=0.05,random_state=123)\n",
    "test = create_GAN_data(20000,class_ratio=0.05,random_state=123)\n",
    "minority = training.groupby(\"group\").get_group(1).reset_index(drop=True)"
   ]
  },
  {
   "cell_type": "code",
   "execution_count": 385,
   "metadata": {},
   "outputs": [
    {
     "data": {
      "text/plain": [
       "12"
      ]
     },
     "execution_count": 385,
     "metadata": {},
     "output_type": "execute_result"
    }
   ],
   "source": [
    "minority.shape[1]"
   ]
  },
  {
   "cell_type": "code",
   "execution_count": 303,
   "metadata": {},
   "outputs": [],
   "source": [
    "input_dim=training.shape[1]"
   ]
  },
  {
   "cell_type": "code",
   "execution_count": 304,
   "metadata": {},
   "outputs": [],
   "source": [
    "generator = GeneratorNet(hidden_layers=[64,64,64], noise_dim=input_dim,\n",
    "                          n_output_continuous=7,n_output_binary=2,n_output_categorical=[3])\n",
    "#generator = GeneratorNet(noise_dim=100,n_output_continuous=7,n_output_binary=2,n_output_categorical=[3])\n",
    "critic = CriticNet(input_dim=input_dim, hidden_layers=[64,64,64])\n",
    "wgan = WGAN(generator, critic)"
   ]
  },
  {
   "cell_type": "code",
   "execution_count": 305,
   "metadata": {},
   "outputs": [],
   "source": [
    "batch_size = 128\n",
    "#learning_rate = 1e-5\n",
    "critic_rounds = 5\n",
    "gradient_penalty_coefficient = 10"
   ]
  },
  {
   "cell_type": "code",
   "execution_count": 306,
   "metadata": {},
   "outputs": [],
   "source": [
    "minority_tab = TabularDataset(minority)\n",
    "data_loader = DataLoader(minority_tab, batch_size=batch_size, shuffle=True)"
   ]
  },
  {
   "cell_type": "code",
   "execution_count": 311,
   "metadata": {},
   "outputs": [],
   "source": [
    "critic_optimizer = Adam(critic.parameters(), lr=1e-4)\n",
    "generator_optimizer = Adam(generator.parameters(), lr=1e-4)"
   ]
  },
  {
   "cell_type": "code",
   "execution_count": 312,
   "metadata": {},
   "outputs": [],
   "source": [
    "num_epochs = 10"
   ]
  },
  {
   "cell_type": "code",
   "execution_count": 358,
   "metadata": {},
   "outputs": [
    {
     "name": "stdout",
     "output_type": "stream",
     "text": [
      "0.943336 | -0.016565\n",
      "1.126137 | 0.841153\n",
      "1.066730 | 1.684781\n",
      "0.876889 | 2.575253\n",
      "1.235874 | 3.461614\n",
      "0.801330 | 3.996513\n",
      "1.029225 | 4.477257\n",
      "0.483608 | 4.345730\n",
      "0.750479 | 4.291789\n",
      "1.236736 | 4.241846\n"
     ]
    }
   ],
   "source": [
    "critic_performance, generator_performance = wgan.train_WGAN(\n",
    "    data_loader=data_loader, critic_optimizer=critic_optimizer, generator_optimizer=generator_optimizer,\n",
    "    num_epochs =num_epochs, gradient_penalty_coefficient= gradient_penalty_coefficient,\n",
    "    critic_rounds=critic_rounds,\n",
    "    val_data=torch.from_numpy(test.values).float())"
   ]
  },
  {
   "cell_type": "markdown",
   "metadata": {},
   "source": [
    "# Synthetic data evaluation"
   ]
  },
  {
   "cell_type": "code",
   "execution_count": 359,
   "metadata": {},
   "outputs": [],
   "source": [
    "fake = pd.DataFrame(wgan.generator.sample(make_noise(20000, dim=wgan.generator.noise_dim)).detach().numpy())"
   ]
  },
  {
   "cell_type": "code",
   "execution_count": 360,
   "metadata": {},
   "outputs": [
    {
     "data": {
      "text/html": [
       "<div>\n",
       "<style scoped>\n",
       "    .dataframe tbody tr th:only-of-type {\n",
       "        vertical-align: middle;\n",
       "    }\n",
       "\n",
       "    .dataframe tbody tr th {\n",
       "        vertical-align: top;\n",
       "    }\n",
       "\n",
       "    .dataframe thead th {\n",
       "        text-align: right;\n",
       "    }\n",
       "</style>\n",
       "<table border=\"1\" class=\"dataframe\">\n",
       "  <thead>\n",
       "    <tr style=\"text-align: right;\">\n",
       "      <th></th>\n",
       "      <th>0</th>\n",
       "      <th>1</th>\n",
       "      <th>2</th>\n",
       "      <th>3</th>\n",
       "      <th>4</th>\n",
       "      <th>5</th>\n",
       "      <th>6</th>\n",
       "      <th>7</th>\n",
       "      <th>8</th>\n",
       "      <th>9</th>\n",
       "      <th>10</th>\n",
       "      <th>11</th>\n",
       "    </tr>\n",
       "  </thead>\n",
       "  <tbody>\n",
       "    <tr>\n",
       "      <th>0</th>\n",
       "      <td>0.9410</td>\n",
       "      <td>-2.0358</td>\n",
       "      <td>-2.0434</td>\n",
       "      <td>6.9259</td>\n",
       "      <td>0.0065</td>\n",
       "      <td>0.0101</td>\n",
       "      <td>0.0486</td>\n",
       "      <td>1.0000</td>\n",
       "      <td>0.6210</td>\n",
       "      <td>0.2060</td>\n",
       "      <td>0.7030</td>\n",
       "      <td>0.0910</td>\n",
       "    </tr>\n",
       "    <tr>\n",
       "      <th>1</th>\n",
       "      <td>0.8089</td>\n",
       "      <td>-2.3522</td>\n",
       "      <td>-2.8874</td>\n",
       "      <td>7.9331</td>\n",
       "      <td>-0.1845</td>\n",
       "      <td>0.2563</td>\n",
       "      <td>0.1857</td>\n",
       "      <td>0.9919</td>\n",
       "      <td>0.9791</td>\n",
       "      <td>0.1121</td>\n",
       "      <td>0.8098</td>\n",
       "      <td>0.0781</td>\n",
       "    </tr>\n",
       "  </tbody>\n",
       "</table>\n",
       "</div>"
      ],
      "text/plain": [
       "       0       1       2       3       4       5       6       7       8   \\\n",
       "0  0.9410 -2.0358 -2.0434  6.9259  0.0065  0.0101  0.0486  1.0000  0.6210   \n",
       "1  0.8089 -2.3522 -2.8874  7.9331 -0.1845  0.2563  0.1857  0.9919  0.9791   \n",
       "\n",
       "       9       10      11  \n",
       "0  0.2060  0.7030  0.0910  \n",
       "1  0.1121  0.8098  0.0781  "
      ]
     },
     "execution_count": 360,
     "metadata": {},
     "output_type": "execute_result"
    }
   ],
   "source": [
    "pd.DataFrame(np.vstack([np.round(np.mean(minority.values, axis=0),4), \n",
    "                        np.round(np.mean(fake.values, axis=0),4)]))"
   ]
  },
  {
   "cell_type": "code",
   "execution_count": 361,
   "metadata": {},
   "outputs": [
    {
     "name": "stdout",
     "output_type": "stream",
     "text": [
      "[[ 0.973  0.769  0.168]\n",
      " [ 0.769  0.951 -0.02 ]\n",
      " [ 0.168 -0.02   1.015]]\n",
      "[[0.957 0.879 0.348]\n",
      " [0.879 1.084 0.123]\n",
      " [0.348 0.123 0.382]]\n"
     ]
    }
   ],
   "source": [
    "print(np.round(np.cov(minority.iloc[:,4:7].values, rowvar=False), 3))\n",
    "print(np.round(np.cov(fake.iloc[:,4:7].values, rowvar=False), 3))"
   ]
  },
  {
   "cell_type": "code",
   "execution_count": 362,
   "metadata": {},
   "outputs": [],
   "source": [
    "fake.iloc[:,0] = np.round(fake.iloc[:,0],0)"
   ]
  },
  {
   "cell_type": "code",
   "execution_count": 363,
   "metadata": {},
   "outputs": [
    {
     "data": {
      "image/png": "[encoded data removed]",
      "text/plain": [
       "<Figure size 432x288 with 1 Axes>"
      ]
     },
     "metadata": {
      "needs_background": "light"
     },
     "output_type": "display_data"
    },
    {
     "data": {
      "image/png": "[encoded data removed]",
      "text/plain": [
       "<Figure size 432x288 with 1 Axes>"
      ]
     },
     "metadata": {
      "needs_background": "light"
     },
     "output_type": "display_data"
    },
    {
     "data": {
      "image/png": "[encoded data removed]",
      "text/plain": [
       "<Figure size 432x288 with 1 Axes>"
      ]
     },
     "metadata": {
      "needs_background": "light"
     },
     "output_type": "display_data"
    },
    {
     "data": {
      "image/png": "[encoded data removed]",
      "text/plain": [
       "<Figure size 432x288 with 1 Axes>"
      ]
     },
     "metadata": {
      "needs_background": "light"
     },
     "output_type": "display_data"
    },
    {
     "data": {
      "image/png": "[encoded data removed]",
      "text/plain": [
       "<Figure size 432x288 with 1 Axes>"
      ]
     },
     "metadata": {
      "needs_background": "light"
     },
     "output_type": "display_data"
    },
    {
     "data": {
      "image/png": "[encoded data removed]",
      "text/plain": [
       "<Figure size 432x288 with 1 Axes>"
      ]
     },
     "metadata": {
      "needs_background": "light"
     },
     "output_type": "display_data"
    },
    {
     "data": {
      "image/png": "[encoded data removed]",
      "text/plain": [
       "<Figure size 432x288 with 1 Axes>"
      ]
     },
     "metadata": {
      "needs_background": "light"
     },
     "output_type": "display_data"
    },
    {
     "data": {
      "image/png": "[encoded data removed]",
      "text/plain": [
       "<Figure size 432x288 with 1 Axes>"
      ]
     },
     "metadata": {
      "needs_background": "light"
     },
     "output_type": "display_data"
    },
    {
     "data": {
      "image/png": "[encoded data removed]",
      "text/plain": [
       "<Figure size 432x288 with 1 Axes>"
      ]
     },
     "metadata": {
      "needs_background": "light"
     },
     "output_type": "display_data"
    },
    {
     "data": {
      "image/png": "[encoded data removed]",
      "text/plain": [
       "<Figure size 432x288 with 1 Axes>"
      ]
     },
     "metadata": {
      "needs_background": "light"
     },
     "output_type": "display_data"
    },
    {
     "data": {
      "image/png": "[encoded data removed]",
      "text/plain": [
       "<Figure size 432x288 with 1 Axes>"
      ]
     },
     "metadata": {
      "needs_background": "light"
     },
     "output_type": "display_data"
    },
    {
     "data": {
      "image/png": "[encoded data removed]",
      "text/plain": [
       "<Figure size 432x288 with 1 Axes>"
      ]
     },
     "metadata": {
      "needs_background": "light"
     },
     "output_type": "display_data"
    }
   ],
   "source": [
    "for i in range(real.shape[1]):\n",
    "    plt.hist(real.groupby(\"group\").get_group(1).iloc[:,i], alpha=0.5, bins=25, density=True)\n",
    "    plt.hist(fake.iloc[:,i], alpha=0.5, bins=25, density=True, color=\"orange\")\n",
    "    plt.show()"
   ]
  },
  {
   "cell_type": "markdown",
   "metadata": {},
   "source": [
    "## Model performance"
   ]
  },
  {
   "cell_type": "code",
   "execution_count": 364,
   "metadata": {},
   "outputs": [
    {
     "data": {
      "text/plain": [
       "group\n",
       "0.0    19000\n",
       "1.0     1000\n",
       "dtype: int64"
      ]
     },
     "execution_count": 364,
     "metadata": {},
     "output_type": "execute_result"
    }
   ],
   "source": [
    "training.groupby(\"group\").size()"
   ]
  },
  {
   "cell_type": "code",
   "execution_count": 378,
   "metadata": {},
   "outputs": [],
   "source": [
    "sample = pd.DataFrame(wgan.generator.sample(make_noise(18000, dim=wgan.generator.noise_dim)).detach().numpy())\n",
    "sample.rename({7:\"group\"}, axis=\"columns\", inplace=True)"
   ]
  },
  {
   "cell_type": "code",
   "execution_count": 379,
   "metadata": {},
   "outputs": [],
   "source": [
    "training_upsampled = pd.concat([training, \n",
    "                               sample]\n",
    "                                )"
   ]
  },
  {
   "cell_type": "code",
   "execution_count": 380,
   "metadata": {},
   "outputs": [],
   "source": [
    "X_train_org = training.drop(\"group\", axis=1)\n",
    "y_train_org = training.group.values\n",
    "\n",
    "clf = DecisionTreeClassifier(min_samples_leaf=50, random_state=123)\n",
    "clf.fit(X_train_org, y_train_org)\n",
    "pred_org = clf.predict(test.drop(\"group\", axis=1).values)\n"
   ]
  },
  {
   "cell_type": "markdown",
   "metadata": {},
   "source": [
    "### GANbalance"
   ]
  },
  {
   "cell_type": "code",
   "execution_count": 381,
   "metadata": {},
   "outputs": [],
   "source": [
    "X_train_up = training_upsampled.drop(\"group\", axis=1)\n",
    "y_train_up = training_upsampled.group.values\n",
    "\n",
    "clf = DecisionTreeClassifier(min_samples_leaf=50, random_state=123)\n",
    "clf.fit(X_train_up, y_train_up)\n",
    "pred_up = clf.predict(test.drop(\"group\", axis=1).values)"
   ]
  },
  {
   "cell_type": "markdown",
   "metadata": {},
   "source": [
    "### SMOTE"
   ]
  },
  {
   "cell_type": "code",
   "execution_count": 264,
   "metadata": {},
   "outputs": [],
   "source": [
    "X_train_cat = X_train_org.drop([9,10,11], axis=1)\n",
    "X_train_cat[9] = X_train_org.iloc[:,8:11].idxmax(axis=1)"
   ]
  },
  {
   "cell_type": "code",
   "execution_count": 265,
   "metadata": {},
   "outputs": [],
   "source": [
    "from imblearn.over_sampling import SMOTENC\n",
    "smote_nc = SMOTENC(categorical_features=[0,7,8], random_state=0, njobs=10)\n",
    "X_train_smote, y_train_smote = smote_nc.fit_resample(X_train_cat, y_train_org)"
   ]
  },
  {
   "cell_type": "code",
   "execution_count": 266,
   "metadata": {},
   "outputs": [],
   "source": [
    "X_train_smote = pd.DataFrame(X_train_smote)\n",
    "X_train_smote = pd.get_dummies(X_train_smote, columns=[8])"
   ]
  },
  {
   "cell_type": "code",
   "execution_count": 267,
   "metadata": {},
   "outputs": [],
   "source": [
    "clf = DecisionTreeClassifier(min_samples_leaf=50, random_state=123)\n",
    "clf.fit(X_train_smote, y_train_smote)\n",
    "pred_smote = clf.predict(test.drop(\"group\", axis=1).values)"
   ]
  },
  {
   "cell_type": "markdown",
   "metadata": {},
   "source": [
    "### Comparison"
   ]
  },
  {
   "cell_type": "code",
   "execution_count": 382,
   "metadata": {},
   "outputs": [
    {
     "name": "stdout",
     "output_type": "stream",
     "text": [
      "0.9532894736842106\n",
      "0.9799473684210526\n",
      "0.9653157894736842\n"
     ]
    }
   ],
   "source": [
    "print(roc_auc_score(test.group.values, pred_org))\n",
    "print(roc_auc_score(test.group.values, pred_smote))\n",
    "print(roc_auc_score(test.group.values, pred_up))"
   ]
  },
  {
   "cell_type": "code",
   "execution_count": null,
   "metadata": {},
   "outputs": [],
   "source": []
  },
  {
   "cell_type": "code",
   "execution_count": null,
   "metadata": {},
   "outputs": [],
   "source": []
  }
 ],
 "metadata": {
  "kernelspec": {
   "display_name": "Python [deeplearning]",
   "language": "python",
   "name": "Python [deeplearning]"
  },
  "language_info": {
   "codemirror_mode": {
    "name": "ipython",
    "version": 3
   },
   "file_extension": ".py",
   "mimetype": "text/x-python",
   "name": "python",
   "nbconvert_exporter": "python",
   "pygments_lexer": "ipython3",
   "version": "3.6.6"
  }
 },
 "nbformat": 4,
 "nbformat_minor": 2
}
